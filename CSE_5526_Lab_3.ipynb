{
  "nbformat": 4,
  "nbformat_minor": 0,
  "metadata": {
    "colab": {
      "name": "CSE 5526 Lab 3.ipynb",
      "provenance": [],
      "authorship_tag": "ABX9TyNEnnq0IkcNyaUqx88Fq9QF",
      "include_colab_link": true
    },
    "kernelspec": {
      "name": "python3",
      "display_name": "Python 3"
    },
    "language_info": {
      "name": "python"
    }
  },
  "cells": [
    {
      "cell_type": "markdown",
      "metadata": {
        "id": "view-in-github",
        "colab_type": "text"
      },
      "source": [
        "<a href=\"https://colab.research.google.com/github/FlyPig23/CSE5526/blob/main/CSE_5526_Lab_3.ipynb\" target=\"_parent\"><img src=\"https://colab.research.google.com/assets/colab-badge.svg\" alt=\"Open In Colab\"/></a>"
      ]
    },
    {
      "cell_type": "markdown",
      "source": [
        "# **Part 1: Developing an RBM to predict ice cream preferences**"
      ],
      "metadata": {
        "id": "8PMu2l7f5Lf-"
      }
    },
    {
      "cell_type": "markdown",
      "source": [
        "## RBM design"
      ],
      "metadata": {
        "id": "XhzIcdHM6GLs"
      }
    },
    {
      "cell_type": "code",
      "execution_count": null,
      "metadata": {
        "id": "Gs3R4TMq9KlO",
        "colab": {
          "resources": {
            "http://localhost:8080/nbextensions/google.colab/files.js": {
              "data": "Ly8gQ29weXJpZ2h0IDIwMTcgR29vZ2xlIExMQwovLwovLyBMaWNlbnNlZCB1bmRlciB0aGUgQXBhY2hlIExpY2Vuc2UsIFZlcnNpb24gMi4wICh0aGUgIkxpY2Vuc2UiKTsKLy8geW91IG1heSBub3QgdXNlIHRoaXMgZmlsZSBleGNlcHQgaW4gY29tcGxpYW5jZSB3aXRoIHRoZSBMaWNlbnNlLgovLyBZb3UgbWF5IG9idGFpbiBhIGNvcHkgb2YgdGhlIExpY2Vuc2UgYXQKLy8KLy8gICAgICBodHRwOi8vd3d3LmFwYWNoZS5vcmcvbGljZW5zZXMvTElDRU5TRS0yLjAKLy8KLy8gVW5sZXNzIHJlcXVpcmVkIGJ5IGFwcGxpY2FibGUgbGF3IG9yIGFncmVlZCB0byBpbiB3cml0aW5nLCBzb2Z0d2FyZQovLyBkaXN0cmlidXRlZCB1bmRlciB0aGUgTGljZW5zZSBpcyBkaXN0cmlidXRlZCBvbiBhbiAiQVMgSVMiIEJBU0lTLAovLyBXSVRIT1VUIFdBUlJBTlRJRVMgT1IgQ09ORElUSU9OUyBPRiBBTlkgS0lORCwgZWl0aGVyIGV4cHJlc3Mgb3IgaW1wbGllZC4KLy8gU2VlIHRoZSBMaWNlbnNlIGZvciB0aGUgc3BlY2lmaWMgbGFuZ3VhZ2UgZ292ZXJuaW5nIHBlcm1pc3Npb25zIGFuZAovLyBsaW1pdGF0aW9ucyB1bmRlciB0aGUgTGljZW5zZS4KCi8qKgogKiBAZmlsZW92ZXJ2aWV3IEhlbHBlcnMgZm9yIGdvb2dsZS5jb2xhYiBQeXRob24gbW9kdWxlLgogKi8KKGZ1bmN0aW9uKHNjb3BlKSB7CmZ1bmN0aW9uIHNwYW4odGV4dCwgc3R5bGVBdHRyaWJ1dGVzID0ge30pIHsKICBjb25zdCBlbGVtZW50ID0gZG9jdW1lbnQuY3JlYXRlRWxlbWVudCgnc3BhbicpOwogIGVsZW1lbnQudGV4dENvbnRlbnQgPSB0ZXh0OwogIGZvciAoY29uc3Qga2V5IG9mIE9iamVjdC5rZXlzKHN0eWxlQXR0cmlidXRlcykpIHsKICAgIGVsZW1lbnQuc3R5bGVba2V5XSA9IHN0eWxlQXR0cmlidXRlc1trZXldOwogIH0KICByZXR1cm4gZWxlbWVudDsKfQoKLy8gTWF4IG51bWJlciBvZiBieXRlcyB3aGljaCB3aWxsIGJlIHVwbG9hZGVkIGF0IGEgdGltZS4KY29uc3QgTUFYX1BBWUxPQURfU0laRSA9IDEwMCAqIDEwMjQ7CgpmdW5jdGlvbiBfdXBsb2FkRmlsZXMoaW5wdXRJZCwgb3V0cHV0SWQpIHsKICBjb25zdCBzdGVwcyA9IHVwbG9hZEZpbGVzU3RlcChpbnB1dElkLCBvdXRwdXRJZCk7CiAgY29uc3Qgb3V0cHV0RWxlbWVudCA9IGRvY3VtZW50LmdldEVsZW1lbnRCeUlkKG91dHB1dElkKTsKICAvLyBDYWNoZSBzdGVwcyBvbiB0aGUgb3V0cHV0RWxlbWVudCB0byBtYWtlIGl0IGF2YWlsYWJsZSBmb3IgdGhlIG5leHQgY2FsbAogIC8vIHRvIHVwbG9hZEZpbGVzQ29udGludWUgZnJvbSBQeXRob24uCiAgb3V0cHV0RWxlbWVudC5zdGVwcyA9IHN0ZXBzOwoKICByZXR1cm4gX3VwbG9hZEZpbGVzQ29udGludWUob3V0cHV0SWQpOwp9CgovLyBUaGlzIGlzIHJvdWdobHkgYW4gYXN5bmMgZ2VuZXJhdG9yIChub3Qgc3VwcG9ydGVkIGluIHRoZSBicm93c2VyIHlldCksCi8vIHdoZXJlIHRoZXJlIGFyZSBtdWx0aXBsZSBhc3luY2hyb25vdXMgc3RlcHMgYW5kIHRoZSBQeXRob24gc2lkZSBpcyBnb2luZwovLyB0byBwb2xsIGZvciBjb21wbGV0aW9uIG9mIGVhY2ggc3RlcC4KLy8gVGhpcyB1c2VzIGEgUHJvbWlzZSB0byBibG9jayB0aGUgcHl0aG9uIHNpZGUgb24gY29tcGxldGlvbiBvZiBlYWNoIHN0ZXAsCi8vIHRoZW4gcGFzc2VzIHRoZSByZXN1bHQgb2YgdGhlIHByZXZpb3VzIHN0ZXAgYXMgdGhlIGlucHV0IHRvIHRoZSBuZXh0IHN0ZXAuCmZ1bmN0aW9uIF91cGxvYWRGaWxlc0NvbnRpbnVlKG91dHB1dElkKSB7CiAgY29uc3Qgb3V0cHV0RWxlbWVudCA9IGRvY3VtZW50LmdldEVsZW1lbnRCeUlkKG91dHB1dElkKTsKICBjb25zdCBzdGVwcyA9IG91dHB1dEVsZW1lbnQuc3RlcHM7CgogIGNvbnN0IG5leHQgPSBzdGVwcy5uZXh0KG91dHB1dEVsZW1lbnQubGFzdFByb21pc2VWYWx1ZSk7CiAgcmV0dXJuIFByb21pc2UucmVzb2x2ZShuZXh0LnZhbHVlLnByb21pc2UpLnRoZW4oKHZhbHVlKSA9PiB7CiAgICAvLyBDYWNoZSB0aGUgbGFzdCBwcm9taXNlIHZhbHVlIHRvIG1ha2UgaXQgYXZhaWxhYmxlIHRvIHRoZSBuZXh0CiAgICAvLyBzdGVwIG9mIHRoZSBnZW5lcmF0b3IuCiAgICBvdXRwdXRFbGVtZW50Lmxhc3RQcm9taXNlVmFsdWUgPSB2YWx1ZTsKICAgIHJldHVybiBuZXh0LnZhbHVlLnJlc3BvbnNlOwogIH0pOwp9CgovKioKICogR2VuZXJhdG9yIGZ1bmN0aW9uIHdoaWNoIGlzIGNhbGxlZCBiZXR3ZWVuIGVhY2ggYXN5bmMgc3RlcCBvZiB0aGUgdXBsb2FkCiAqIHByb2Nlc3MuCiAqIEBwYXJhbSB7c3RyaW5nfSBpbnB1dElkIEVsZW1lbnQgSUQgb2YgdGhlIGlucHV0IGZpbGUgcGlja2VyIGVsZW1lbnQuCiAqIEBwYXJhbSB7c3RyaW5nfSBvdXRwdXRJZCBFbGVtZW50IElEIG9mIHRoZSBvdXRwdXQgZGlzcGxheS4KICogQHJldHVybiB7IUl0ZXJhYmxlPCFPYmplY3Q+fSBJdGVyYWJsZSBvZiBuZXh0IHN0ZXBzLgogKi8KZnVuY3Rpb24qIHVwbG9hZEZpbGVzU3RlcChpbnB1dElkLCBvdXRwdXRJZCkgewogIGNvbnN0IGlucHV0RWxlbWVudCA9IGRvY3VtZW50LmdldEVsZW1lbnRCeUlkKGlucHV0SWQpOwogIGlucHV0RWxlbWVudC5kaXNhYmxlZCA9IGZhbHNlOwoKICBjb25zdCBvdXRwdXRFbGVtZW50ID0gZG9jdW1lbnQuZ2V0RWxlbWVudEJ5SWQob3V0cHV0SWQpOwogIG91dHB1dEVsZW1lbnQuaW5uZXJIVE1MID0gJyc7CgogIGNvbnN0IHBpY2tlZFByb21pc2UgPSBuZXcgUHJvbWlzZSgocmVzb2x2ZSkgPT4gewogICAgaW5wdXRFbGVtZW50LmFkZEV2ZW50TGlzdGVuZXIoJ2NoYW5nZScsIChlKSA9PiB7CiAgICAgIHJlc29sdmUoZS50YXJnZXQuZmlsZXMpOwogICAgfSk7CiAgfSk7CgogIGNvbnN0IGNhbmNlbCA9IGRvY3VtZW50LmNyZWF0ZUVsZW1lbnQoJ2J1dHRvbicpOwogIGlucHV0RWxlbWVudC5wYXJlbnRFbGVtZW50LmFwcGVuZENoaWxkKGNhbmNlbCk7CiAgY2FuY2VsLnRleHRDb250ZW50ID0gJ0NhbmNlbCB1cGxvYWQnOwogIGNvbnN0IGNhbmNlbFByb21pc2UgPSBuZXcgUHJvbWlzZSgocmVzb2x2ZSkgPT4gewogICAgY2FuY2VsLm9uY2xpY2sgPSAoKSA9PiB7CiAgICAgIHJlc29sdmUobnVsbCk7CiAgICB9OwogIH0pOwoKICAvLyBXYWl0IGZvciB0aGUgdXNlciB0byBwaWNrIHRoZSBmaWxlcy4KICBjb25zdCBmaWxlcyA9IHlpZWxkIHsKICAgIHByb21pc2U6IFByb21pc2UucmFjZShbcGlja2VkUHJvbWlzZSwgY2FuY2VsUHJvbWlzZV0pLAogICAgcmVzcG9uc2U6IHsKICAgICAgYWN0aW9uOiAnc3RhcnRpbmcnLAogICAgfQogIH07CgogIGNhbmNlbC5yZW1vdmUoKTsKCiAgLy8gRGlzYWJsZSB0aGUgaW5wdXQgZWxlbWVudCBzaW5jZSBmdXJ0aGVyIHBpY2tzIGFyZSBub3QgYWxsb3dlZC4KICBpbnB1dEVsZW1lbnQuZGlzYWJsZWQgPSB0cnVlOwoKICBpZiAoIWZpbGVzKSB7CiAgICByZXR1cm4gewogICAgICByZXNwb25zZTogewogICAgICAgIGFjdGlvbjogJ2NvbXBsZXRlJywKICAgICAgfQogICAgfTsKICB9CgogIGZvciAoY29uc3QgZmlsZSBvZiBmaWxlcykgewogICAgY29uc3QgbGkgPSBkb2N1bWVudC5jcmVhdGVFbGVtZW50KCdsaScpOwogICAgbGkuYXBwZW5kKHNwYW4oZmlsZS5uYW1lLCB7Zm9udFdlaWdodDogJ2JvbGQnfSkpOwogICAgbGkuYXBwZW5kKHNwYW4oCiAgICAgICAgYCgke2ZpbGUudHlwZSB8fCAnbi9hJ30pIC0gJHtmaWxlLnNpemV9IGJ5dGVzLCBgICsKICAgICAgICBgbGFzdCBtb2RpZmllZDogJHsKICAgICAgICAgICAgZmlsZS5sYXN0TW9kaWZpZWREYXRlID8gZmlsZS5sYXN0TW9kaWZpZWREYXRlLnRvTG9jYWxlRGF0ZVN0cmluZygpIDoKICAgICAgICAgICAgICAgICAgICAgICAgICAgICAgICAgICAgJ24vYSd9IC0gYCkpOwogICAgY29uc3QgcGVyY2VudCA9IHNwYW4oJzAlIGRvbmUnKTsKICAgIGxpLmFwcGVuZENoaWxkKHBlcmNlbnQpOwoKICAgIG91dHB1dEVsZW1lbnQuYXBwZW5kQ2hpbGQobGkpOwoKICAgIGNvbnN0IGZpbGVEYXRhUHJvbWlzZSA9IG5ldyBQcm9taXNlKChyZXNvbHZlKSA9PiB7CiAgICAgIGNvbnN0IHJlYWRlciA9IG5ldyBGaWxlUmVhZGVyKCk7CiAgICAgIHJlYWRlci5vbmxvYWQgPSAoZSkgPT4gewogICAgICAgIHJlc29sdmUoZS50YXJnZXQucmVzdWx0KTsKICAgICAgfTsKICAgICAgcmVhZGVyLnJlYWRBc0FycmF5QnVmZmVyKGZpbGUpOwogICAgfSk7CiAgICAvLyBXYWl0IGZvciB0aGUgZGF0YSB0byBiZSByZWFkeS4KICAgIGxldCBmaWxlRGF0YSA9IHlpZWxkIHsKICAgICAgcHJvbWlzZTogZmlsZURhdGFQcm9taXNlLAogICAgICByZXNwb25zZTogewogICAgICAgIGFjdGlvbjogJ2NvbnRpbnVlJywKICAgICAgfQogICAgfTsKCiAgICAvLyBVc2UgYSBjaHVua2VkIHNlbmRpbmcgdG8gYXZvaWQgbWVzc2FnZSBzaXplIGxpbWl0cy4gU2VlIGIvNjIxMTU2NjAuCiAgICBsZXQgcG9zaXRpb24gPSAwOwogICAgZG8gewogICAgICBjb25zdCBsZW5ndGggPSBNYXRoLm1pbihmaWxlRGF0YS5ieXRlTGVuZ3RoIC0gcG9zaXRpb24sIE1BWF9QQVlMT0FEX1NJWkUpOwogICAgICBjb25zdCBjaHVuayA9IG5ldyBVaW50OEFycmF5KGZpbGVEYXRhLCBwb3NpdGlvbiwgbGVuZ3RoKTsKICAgICAgcG9zaXRpb24gKz0gbGVuZ3RoOwoKICAgICAgY29uc3QgYmFzZTY0ID0gYnRvYShTdHJpbmcuZnJvbUNoYXJDb2RlLmFwcGx5KG51bGwsIGNodW5rKSk7CiAgICAgIHlpZWxkIHsKICAgICAgICByZXNwb25zZTogewogICAgICAgICAgYWN0aW9uOiAnYXBwZW5kJywKICAgICAgICAgIGZpbGU6IGZpbGUubmFtZSwKICAgICAgICAgIGRhdGE6IGJhc2U2NCwKICAgICAgICB9LAogICAgICB9OwoKICAgICAgbGV0IHBlcmNlbnREb25lID0gZmlsZURhdGEuYnl0ZUxlbmd0aCA9PT0gMCA/CiAgICAgICAgICAxMDAgOgogICAgICAgICAgTWF0aC5yb3VuZCgocG9zaXRpb24gLyBmaWxlRGF0YS5ieXRlTGVuZ3RoKSAqIDEwMCk7CiAgICAgIHBlcmNlbnQudGV4dENvbnRlbnQgPSBgJHtwZXJjZW50RG9uZX0lIGRvbmVgOwoKICAgIH0gd2hpbGUgKHBvc2l0aW9uIDwgZmlsZURhdGEuYnl0ZUxlbmd0aCk7CiAgfQoKICAvLyBBbGwgZG9uZS4KICB5aWVsZCB7CiAgICByZXNwb25zZTogewogICAgICBhY3Rpb246ICdjb21wbGV0ZScsCiAgICB9CiAgfTsKfQoKc2NvcGUuZ29vZ2xlID0gc2NvcGUuZ29vZ2xlIHx8IHt9OwpzY29wZS5nb29nbGUuY29sYWIgPSBzY29wZS5nb29nbGUuY29sYWIgfHwge307CnNjb3BlLmdvb2dsZS5jb2xhYi5fZmlsZXMgPSB7CiAgX3VwbG9hZEZpbGVzLAogIF91cGxvYWRGaWxlc0NvbnRpbnVlLAp9Owp9KShzZWxmKTsK",
              "ok": true,
              "headers": [
                [
                  "content-type",
                  "application/javascript"
                ]
              ],
              "status": 200,
              "status_text": ""
            }
          },
          "base_uri": "https://localhost:8080/",
          "height": 73
        },
        "outputId": "a82a181e-d10c-4e6d-b26e-b7821942c885"
      },
      "outputs": [
        {
          "output_type": "display_data",
          "data": {
            "text/plain": [
              "<IPython.core.display.HTML object>"
            ],
            "text/html": [
              "\n",
              "     <input type=\"file\" id=\"files-6033dc94-fd07-4480-ade7-7573a23ebb5f\" name=\"files[]\" multiple disabled\n",
              "        style=\"border:none\" />\n",
              "     <output id=\"result-6033dc94-fd07-4480-ade7-7573a23ebb5f\">\n",
              "      Upload widget is only available when the cell has been executed in the\n",
              "      current browser session. Please rerun this cell to enable.\n",
              "      </output>\n",
              "      <script src=\"/nbextensions/google.colab/files.js\"></script> "
            ]
          },
          "metadata": {}
        },
        {
          "output_type": "stream",
          "name": "stdout",
          "text": [
            "Saving icecream.csv to icecream (1).csv\n"
          ]
        }
      ],
      "source": [
        "import numpy as np\n",
        "from google.colab import files\n",
        "\n",
        "# Upload file\n",
        "icecream = files.upload()"
      ]
    },
    {
      "cell_type": "code",
      "source": [
        "# Randomly initialize W, a 10 (visible) * 4 (hidden) weight matrix\n",
        "w = np.random.randn(10 , 4) * np.sqrt(2 / (10 + 4))\n",
        "\n",
        "# Store file data in V0, a 10 * 120 matrix\n",
        "v0 = (np.loadtxt(\"icecream.csv\", delimiter = \",\").T) * 2 - 1"
      ],
      "metadata": {
        "id": "I4220SVMX7Tm"
      },
      "execution_count": null,
      "outputs": []
    },
    {
      "cell_type": "code",
      "source": [
        "def sigmoid(x, a):\n",
        "  return 1/(1 + np.exp(x * (-a)))"
      ],
      "metadata": {
        "id": "k9PoRFvDiorl"
      },
      "execution_count": null,
      "outputs": []
    },
    {
      "cell_type": "code",
      "source": [
        "def RBM(w, v0, learning_rate, epoch):\n",
        "  # Initialize the epoch counter\n",
        "  count = 0\n",
        "\n",
        "  # Initialize h0, v1, h1\n",
        "  h0 = np.zeros((4, 120))\n",
        "  v1 = np.zeros((10, 120))\n",
        "  h1 = np.zeros((4, 120))\n",
        "\n",
        "  # Training process\n",
        "  while count < epoch:\n",
        "    # Set parameter a for sigmoid function\n",
        "    a_sigmoid = 1\n",
        "\n",
        "    # Given current weights, first sample the hidden nodes h0\n",
        "    # then resample the visible nodes v1,\n",
        "    # and then resample the hidden nodes h1\n",
        "    h0 = np.sign(sigmoid(np.matmul(w.T, v0), a_sigmoid) - np.random.uniform(0, 1))\n",
        "    v1 = np.sign(sigmoid(np.matmul(w, h0), a_sigmoid) - np.random.uniform(0, 1))\n",
        "    h1 = np.sign(sigmoid(np.matmul(w.T, v1), a_sigmoid) - np.random.uniform(0, 1))\n",
        "\n",
        "    # Compute weight update\n",
        "    positive_phase = np.matmul(v0, h0.T)\n",
        "    negative_phase = np.matmul(v1, h1.T)\n",
        "    w += learning_rate * (positive_phase - negative_phase) / np.size(v0)\n",
        "\n",
        "    # Update epoch counts\n",
        "    count += 1\n",
        "\n",
        "  # Measure the accuracy of the converged system\n",
        "  MAE = np.sum(abs(v0 - v1)) / np.size(v0)\n",
        "\n",
        "  return MAE, w"
      ],
      "metadata": {
        "id": "S2CvqDI5by-U"
      },
      "execution_count": null,
      "outputs": []
    },
    {
      "cell_type": "markdown",
      "source": [
        "## Test with different learning rate and epoch times"
      ],
      "metadata": {
        "id": "-9rXoh_r5kd1"
      }
    },
    {
      "cell_type": "code",
      "source": [
        "# Set the learning rate\n",
        "learning_rate = 0.5\n",
        "# Set the max number of epochs\n",
        "epoch = 10\n",
        "system_mae, weight = RBM(w, v0, learning_rate, epoch)\n",
        "print(system_mae)\n",
        "print(weight)"
      ],
      "metadata": {
        "colab": {
          "base_uri": "https://localhost:8080/"
        },
        "id": "SC-5S07Wbx5k",
        "outputId": "238126f0-1a74-41ea-c96c-aa2c8d37a2fd"
      },
      "execution_count": null,
      "outputs": [
        {
          "output_type": "stream",
          "name": "stdout",
          "text": [
            "0.72\n",
            "[[-1.75523709e-01  4.21751081e-01  2.03583422e-01 -1.10062016e-01]\n",
            " [-4.51598002e-01 -1.90645840e-01  7.66135176e-01  1.97604125e-01]\n",
            " [ 4.97184543e-01 -3.24398257e-01 -1.51631148e-01  1.29472046e-01]\n",
            " [ 4.99641684e-01  1.03003926e-01 -3.55009328e-01  2.50881073e-01]\n",
            " [-1.80628354e-01  3.25988162e-01 -1.98098922e-01  2.45226152e-01]\n",
            " [-2.96900772e-01  1.34372886e+00 -1.90264524e-01 -3.63298432e-01]\n",
            " [-1.94387232e-01 -4.60516254e-01 -1.85591224e-01 -2.10172548e-01]\n",
            " [-6.10950929e-03  4.32482986e-01  3.28804911e-01  1.61129840e-01]\n",
            " [ 5.44038694e-01 -6.58164263e-04 -2.25495621e-01 -3.95290695e-01]\n",
            " [ 4.32177000e-01 -5.28904671e-01  1.68947162e-01  6.04756241e-01]]\n"
          ]
        }
      ]
    },
    {
      "cell_type": "code",
      "source": [
        "# Set the learning rate\n",
        "learning_rate = 0.5\n",
        "# Set the max number of epochs\n",
        "epoch = 100\n",
        "system_mae, weight = RBM(w, v0, learning_rate, epoch)\n",
        "print(system_mae)\n",
        "print(weight)"
      ],
      "metadata": {
        "colab": {
          "base_uri": "https://localhost:8080/"
        },
        "id": "Z4p0_xPj1zXh",
        "outputId": "d7b6f838-d379-488a-aae8-52c69892e92f"
      },
      "execution_count": null,
      "outputs": [
        {
          "output_type": "stream",
          "name": "stdout",
          "text": [
            "0.72\n",
            "[[-1.25969038 -0.00991559  0.19525009 -0.15839535]\n",
            " [-0.46243133 -0.22397917  1.71446851 -0.25406254]\n",
            " [ 1.38468454 -0.86939826 -0.63496448  0.52947205]\n",
            " [-0.39952498  0.87300393 -0.33500933 -0.48245226]\n",
            " [ 0.29520498 -0.2806785  -0.79976559  0.92522615]\n",
            " [ 0.05059923  1.37872886 -0.70693119 -0.62329843]\n",
            " [-0.95188723 -0.59551625 -0.58392456 -0.51850588]\n",
            " [-0.50110951  0.57831632 -0.09369509 -0.17137016]\n",
            " [ 0.99320536 -0.14565816  0.43617105 -0.8452907 ]\n",
            " [ 0.43301033 -1.42390467  0.4422805   1.16975624]]\n"
          ]
        }
      ]
    },
    {
      "cell_type": "code",
      "source": [
        "# Set the learning rate\n",
        "learning_rate = 0.1\n",
        "# Set the max number of epochs\n",
        "epoch = 100\n",
        "system_mae, weight = RBM(w, v0, learning_rate, epoch)\n",
        "print(system_mae)\n",
        "print(weight)"
      ],
      "metadata": {
        "colab": {
          "base_uri": "https://localhost:8080/"
        },
        "id": "ZsC3KIl_2yCr",
        "outputId": "0e5fc139-9348-4262-aa04-81af0b37ac1b"
      },
      "execution_count": null,
      "outputs": [
        {
          "output_type": "stream",
          "name": "stdout",
          "text": [
            "0.735\n",
            "[[-1.31635704 -0.07041559  0.13908342 -0.11422868]\n",
            " [-0.465098   -0.19347917  1.64896851 -0.40822921]\n",
            " [ 1.33835121 -0.87989826 -0.75546448  0.44597205]\n",
            " [-0.43802498  0.81800393 -0.34300933 -0.49645226]\n",
            " [ 0.26153831 -0.2511785  -0.88726559  0.77705948]\n",
            " [ 0.15876589  1.26572886 -0.80693119 -0.65329843]\n",
            " [-0.98972057 -0.60451625 -0.62092456 -0.52617255]\n",
            " [-0.53744284  0.46448299 -0.21886176 -0.17620349]\n",
            " [ 0.97020536 -0.12482483  0.41033771 -1.04112403]\n",
            " [ 0.32034367 -1.53907134  0.45444716  1.09792291]]\n"
          ]
        }
      ]
    },
    {
      "cell_type": "code",
      "source": [
        "# Set the learning rate\n",
        "learning_rate = 0.5\n",
        "# Set the max number of epochs\n",
        "epoch = 200\n",
        "system_mae, weight = RBM(w, v0, learning_rate, epoch)\n",
        "print(system_mae)\n",
        "print(weight)"
      ],
      "metadata": {
        "colab": {
          "base_uri": "https://localhost:8080/"
        },
        "id": "YxRIO7pj3AbR",
        "outputId": "16ff3c20-5444-434f-9920-bc00711e1a96"
      },
      "execution_count": null,
      "outputs": [
        {
          "output_type": "stream",
          "name": "stdout",
          "text": [
            "0.8283333333333334\n",
            "[[-1.70302371e+00  3.21251081e-01  3.79083422e-01  5.62437984e-01]\n",
            " [-9.80015540e-05 -1.34791730e-02  2.22063518e+00 -1.03656254e+00]\n",
            " [ 1.70585121e+00 -8.32398257e-01 -8.64631148e-01  6.20138713e-01]\n",
            " [-6.32191649e-01  1.32383726e+00 -2.88426611e-02 -6.39522607e-02]\n",
            " [ 9.82371646e-01  4.13214955e-02 -5.14765588e-01  5.72892818e-01]\n",
            " [ 7.33765895e-01  1.38239553e+00 -7.65264524e-01 -7.49965099e-01]\n",
            " [-9.32220565e-01  5.29837461e-02 -5.20091224e-01 -6.36725481e-02]\n",
            " [-6.88276176e-01  6.78649652e-01 -2.53028423e-01  1.61296507e-01]\n",
            " [ 1.41770536e+00 -1.95658164e-01  5.96171045e-01 -1.66695736e+00]\n",
            " [ 4.75343666e-01 -2.16073800e+00  6.91113829e-01  1.45125624e+00]]\n"
          ]
        }
      ]
    },
    {
      "cell_type": "code",
      "source": [
        "# Set the learning rate\n",
        "learning_rate = 0.1\n",
        "# Set the max number of epochs\n",
        "epoch = 200\n",
        "system_mae, weight = RBM(w, v0, learning_rate, epoch)\n",
        "print(system_mae)\n",
        "print(weight)"
      ],
      "metadata": {
        "colab": {
          "base_uri": "https://localhost:8080/"
        },
        "id": "fp9sHBTj3D2Q",
        "outputId": "3c226041-1b3f-4371-e775-c89360db7e18"
      },
      "execution_count": null,
      "outputs": [
        {
          "output_type": "stream",
          "name": "stdout",
          "text": [
            "0.485\n",
            "[[-1.74902371  0.18991775  0.25291676  0.55710465]\n",
            " [-0.119098   -0.05281251  2.22080184 -1.12722921]\n",
            " [ 1.65018454 -0.85973159 -0.85813115  0.63413871]\n",
            " [-0.66619165  1.20950393 -0.08334266 -0.15095226]\n",
            " [ 0.94703831  0.04598816 -0.49626559  0.52989282]\n",
            " [ 0.63959923  1.33989553 -0.78026452 -0.85413177]\n",
            " [-0.97038723  0.03548375 -0.51709122  0.03449412]\n",
            " [-0.74794284  0.54231632 -0.30386176  0.13662984]\n",
            " [ 1.30703869 -0.26132483  0.58667105 -1.73462403]\n",
            " [ 0.376677   -2.35107134  0.68061383  1.44492291]]\n"
          ]
        }
      ]
    },
    {
      "cell_type": "code",
      "source": [
        "# Set the learning rate\n",
        "learning_rate = 0.5\n",
        "# Set the max number of epochs\n",
        "epoch = 1000\n",
        "system_mae, weight = RBM(w, v0, learning_rate, epoch)\n",
        "print(system_mae)\n",
        "print(weight)"
      ],
      "metadata": {
        "colab": {
          "base_uri": "https://localhost:8080/"
        },
        "id": "FGSF2FJg3Jdp",
        "outputId": "f1d227ba-d9f1-4a2a-e260-574cf4a4221e"
      },
      "execution_count": null,
      "outputs": [
        {
          "output_type": "stream",
          "name": "stdout",
          "text": [
            "0.8483333333333334\n",
            "[[-2.09652371 -0.52758225 -0.35291658 -0.40456202]\n",
            " [-0.45076467  0.15218749  3.58413518 -1.19639588]\n",
            " [ 1.84268454  0.14943508 -0.82229782  0.94913871]\n",
            " [-0.64535832  1.16533726 -0.17417599 -0.22428559]\n",
            " [ 1.09120498  0.56515483 -0.36043225  0.72989282]\n",
            " [ 0.34126589  0.69322886 -0.97859786 -1.57329843]\n",
            " [-1.33872057  0.98381708 -0.32875789  1.10366079]\n",
            " [-0.90294284  0.68398299 -0.46219509  0.01912984]\n",
            " [ 1.44120536 -0.55882483  0.52417105 -2.0312907 ]\n",
            " [ 0.65251033 -4.550238    0.50644716  2.39158957]]\n"
          ]
        }
      ]
    },
    {
      "cell_type": "code",
      "source": [
        "# Set the learning rate\n",
        "learning_rate = 0.1\n",
        "# Set the max number of epochs\n",
        "epoch = 1000\n",
        "system_mae, weight = RBM(w, v0, learning_rate, epoch)\n",
        "print(system_mae)\n",
        "print(weight)"
      ],
      "metadata": {
        "colab": {
          "base_uri": "https://localhost:8080/"
        },
        "id": "jjEB6oYp3L5o",
        "outputId": "8b7fb343-4cdc-4b60-c699-9fcf004def03"
      },
      "execution_count": null,
      "outputs": [
        {
          "output_type": "stream",
          "name": "stdout",
          "text": [
            "0.5983333333333334\n",
            "[[-1.85185704 -0.64624892 -0.36641658 -0.55522868]\n",
            " [-0.667598    0.20068749  3.68746851 -1.18756254]\n",
            " [ 1.84235121  0.13276841 -0.63179782  0.95980538]\n",
            " [-0.71135832  0.91133726 -0.14100933 -0.14995226]\n",
            " [ 0.99803831  0.5303215  -0.27943225  0.60172615]\n",
            " [ 0.44993256  0.5065622  -0.97409786 -1.50429843]\n",
            " [-1.2085539   0.88998375 -0.28809122  1.25049412]\n",
            " [-0.71160951  0.55998299 -0.34536176  0.02146317]\n",
            " [ 1.39987203 -0.63515816  0.37167105 -1.96962403]\n",
            " [ 0.57034367 -4.68607134  0.4667805   2.38808957]]\n"
          ]
        }
      ]
    },
    {
      "cell_type": "markdown",
      "source": [
        "# **Part 2: Comparison systems**"
      ],
      "metadata": {
        "id": "GO0ymAII5Zef"
      }
    },
    {
      "cell_type": "markdown",
      "source": [
        "## Apply learning rate annealing"
      ],
      "metadata": {
        "id": "oIXAHCag6wtS"
      }
    },
    {
      "cell_type": "code",
      "source": [
        "def RBM_learning_rate_annealing(w, v0, learning_rate, epoch):\n",
        "  # Initialize the epoch counter\n",
        "  count = 0\n",
        "\n",
        "  # Initialize h0, v1, h1\n",
        "  h0 = np.zeros((4, 120))\n",
        "  v1 = np.zeros((10, 120))\n",
        "  h1 = np.zeros((4, 120))\n",
        "  \n",
        "  # Training process\n",
        "  while count < epoch:\n",
        "    # Set parameter a for sigmoid function\n",
        "    a_sigmoid = 1\n",
        "\n",
        "    # Given current weights, first sample the hidden nodes h0\n",
        "    # then resample the visible nodes v1,\n",
        "    # and then resample the hidden nodes h1\n",
        "    h0 = np.sign(sigmoid(np.matmul(w.T, v0), a_sigmoid) - np.random.uniform(0, 1))\n",
        "    v1 = np.sign(sigmoid(np.matmul(w, h0), a_sigmoid) - np.random.uniform(0, 1))\n",
        "    h1 = np.sign(sigmoid(np.matmul(w.T, v1), a_sigmoid) - np.random.uniform(0, 1))\n",
        "\n",
        "    # Compute weight update\n",
        "    positive_phase = np.matmul(v0, h0.T)\n",
        "    negative_phase = np.matmul(v1, h1.T)\n",
        "    w += learning_rate * (positive_phase - negative_phase) / np.size(v0)\n",
        "\n",
        "    # Learning rate annealing\n",
        "    learning_rate *= 0.5\n",
        "\n",
        "    # Update epoch counts\n",
        "    count += 1\n",
        "\n",
        "  # Measure the accuracy of the converged system\n",
        "  MAE = np.sum(abs(v0 - v1)) / np.size(v0)\n",
        "  \n",
        "  return MAE, w"
      ],
      "metadata": {
        "id": "GmTXOZya5e7X"
      },
      "execution_count": null,
      "outputs": []
    },
    {
      "cell_type": "markdown",
      "source": [
        "### Test with different learning rate and epoch times"
      ],
      "metadata": {
        "id": "_vvfgpps7zLE"
      }
    },
    {
      "cell_type": "code",
      "source": [
        "# Set the learning rate\n",
        "learning_rate = 0.5\n",
        "# Set the max number of epochs\n",
        "epoch = 100\n",
        "system_mae, weight = RBM_learning_rate_annealing(w, v0, learning_rate, epoch)\n",
        "print(system_mae)\n",
        "print(weight)"
      ],
      "metadata": {
        "colab": {
          "base_uri": "https://localhost:8080/"
        },
        "outputId": "6ececdf7-2cf3-43e5-d956-3e297962d825",
        "id": "Eak-ncYS7zLN"
      },
      "execution_count": null,
      "outputs": [
        {
          "output_type": "stream",
          "name": "stdout",
          "text": [
            "0.435\n",
            "[[-1.8237207  -0.65516408 -0.3666542  -0.54295498]\n",
            " [-0.67478617  0.21236824  3.67591605 -1.19464965]\n",
            " [ 1.82917337  0.13441467 -0.62655729  0.9475114 ]\n",
            " [-0.69687227  0.89346421 -0.15100001 -0.13507172]\n",
            " [ 0.98903874  0.53169541 -0.25824346  0.59560722]\n",
            " [ 0.43999883  0.5139405  -0.97455591 -1.49349748]\n",
            " [-1.20973965  0.89091244 -0.27151458  1.24179016]\n",
            " [-0.69130175  0.53714152 -0.35481621  0.03846452]\n",
            " [ 1.39458641 -0.62832229  0.36939569 -1.97033979]\n",
            " [ 0.57009015 -4.68349777  0.46358444  2.39080935]]\n"
          ]
        }
      ]
    },
    {
      "cell_type": "code",
      "source": [
        "# Set the learning rate\n",
        "learning_rate = 0.1\n",
        "# Set the max number of epochs\n",
        "epoch = 100\n",
        "system_mae, weight = RBM_learning_rate_annealing(w, v0, learning_rate, epoch)\n",
        "print(system_mae)\n",
        "print(weight)"
      ],
      "metadata": {
        "colab": {
          "base_uri": "https://localhost:8080/"
        },
        "outputId": "b3c5510a-84c8-42da-b75c-a615c211545a",
        "id": "o3YsowI-7zLN"
      },
      "execution_count": null,
      "outputs": [
        {
          "output_type": "stream",
          "name": "stdout",
          "text": [
            "0.47833333333333333\n",
            "[[-1.82413962 -0.65346777 -0.36753235 -0.5429083 ]\n",
            " [-0.67321597  0.2097373   3.67133492 -1.19360737]\n",
            " [ 1.82592268  0.13612358 -0.62053578  0.94550903]\n",
            " [-0.69309007  0.89635275 -0.15129314 -0.13442179]\n",
            " [ 0.99108138  0.52999183 -0.25948374  0.59602191]\n",
            " [ 0.44255923  0.51413796 -0.97748438 -1.49457169]\n",
            " [-1.2057444   0.8902061  -0.27335285  1.24162078]\n",
            " [-0.68849551  0.53788268 -0.3551748   0.03902272]\n",
            " [ 1.39736139 -0.63228972  0.36795374 -1.96690932]\n",
            " [ 0.56867501 -4.68287131  0.46857743  2.39024448]]\n"
          ]
        }
      ]
    },
    {
      "cell_type": "code",
      "source": [
        "# Set the learning rate\n",
        "learning_rate = 0.5\n",
        "# Set the max number of epochs\n",
        "epoch = 200\n",
        "system_mae, weight = RBM_learning_rate_annealing(w, v0, learning_rate, epoch)\n",
        "print(system_mae)\n",
        "print(weight)"
      ],
      "metadata": {
        "colab": {
          "base_uri": "https://localhost:8080/"
        },
        "outputId": "1f7582bc-4d26-4fb6-de3c-d6b0ba5f8fb6",
        "id": "DWEhsfqY7zLO"
      },
      "execution_count": null,
      "outputs": [
        {
          "output_type": "stream",
          "name": "stdout",
          "text": [
            "0.4533333333333333\n",
            "[[-1.79555608 -0.66522855 -0.3710368  -0.53709439]\n",
            " [-0.67857856  0.21600005  3.66478399 -1.19846402]\n",
            " [ 1.80898096  0.14641875 -0.61387777  0.93865858]\n",
            " [-0.68566948  0.86823406 -0.14789235 -0.12460142]\n",
            " [ 0.95057327  0.53754455 -0.25042523  0.57518108]\n",
            " [ 0.43622382  0.50005386 -0.97890445 -1.48576583]\n",
            " [-1.18928688  0.87834309 -0.25964695  1.23892208]\n",
            " [-0.66527325  0.50571974 -0.34878996  0.05240995]\n",
            " [ 1.40450269 -0.64565198  0.35851233 -1.94802815]\n",
            " [ 0.56958212 -4.68073054  0.46843504  2.39073578]]\n"
          ]
        }
      ]
    },
    {
      "cell_type": "code",
      "source": [
        "# Set the learning rate\n",
        "learning_rate = 0.1\n",
        "# Set the max number of epochs\n",
        "epoch = 200\n",
        "system_mae, weight = RBM_learning_rate_annealing(w, v0, learning_rate, epoch)\n",
        "print(system_mae)\n",
        "print(weight)"
      ],
      "metadata": {
        "colab": {
          "base_uri": "https://localhost:8080/"
        },
        "outputId": "fa84b2ad-5629-4573-a5cb-6860483e50b8",
        "id": "76D_s-5Q7zLO"
      },
      "execution_count": null,
      "outputs": [
        {
          "output_type": "stream",
          "name": "stdout",
          "text": [
            "0.38\n",
            "[[-1.79253554 -0.66808987 -0.37284813 -0.53706233]\n",
            " [-0.67954649  0.21668281  3.66402707 -1.19887192]\n",
            " [ 1.80615754  0.1473268  -0.61212041  0.93673765]\n",
            " [-0.68386823  0.86292176 -0.14865077 -0.12170325]\n",
            " [ 0.94599345  0.53701134 -0.2474718   0.57117502]\n",
            " [ 0.43518076  0.49511636 -0.98005735 -1.48546105]\n",
            " [-1.18787624  0.87673104 -0.25940873  1.23729214]\n",
            " [-0.6631028   0.50353219 -0.34684802  0.05143023]\n",
            " [ 1.40124571 -0.64556006  0.35815839 -1.94936001]\n",
            " [ 0.56931225 -4.68183952  0.46858187  2.38997024]]\n"
          ]
        }
      ]
    },
    {
      "cell_type": "code",
      "source": [
        "# Set the learning rate\n",
        "learning_rate = 0.5\n",
        "# Set the max number of epochs\n",
        "epoch = 1000\n",
        "system_mae, weight = RBM_learning_rate_annealing(w, v0, learning_rate, epoch)\n",
        "print(system_mae)\n",
        "print(weight)"
      ],
      "metadata": {
        "colab": {
          "base_uri": "https://localhost:8080/"
        },
        "outputId": "01fbc9b5-49d2-4cc7-8354-d40e1807341d",
        "id": "XljRbceb7zLO"
      },
      "execution_count": null,
      "outputs": [
        {
          "output_type": "stream",
          "name": "stdout",
          "text": [
            "0.675\n",
            "[[-1.77824301 -0.64634446 -0.3316351  -0.51988875]\n",
            " [-0.67112574  0.21234445  3.73009179 -1.20394908]\n",
            " [ 1.86343222  0.15397209 -0.58837246  0.96896012]\n",
            " [-0.64464072  0.89093101 -0.0940298  -0.09757335]\n",
            " [ 1.00173239  0.5441745  -0.20325877  0.60792183]\n",
            " [ 0.46368402  0.50155092 -0.94826017 -1.47169133]\n",
            " [-1.16530401  0.8869638  -0.21559489  1.27032417]\n",
            " [-0.61859276  0.51968642 -0.30436957  0.0866597 ]\n",
            " [ 1.4485994  -0.64784876  0.4076049  -1.91936941]\n",
            " [ 0.58775464 -4.67967491  0.47001463  2.41419703]]\n"
          ]
        }
      ]
    },
    {
      "cell_type": "code",
      "source": [
        "# Set the learning rate\n",
        "learning_rate = 0.1\n",
        "# Set the max number of epochs\n",
        "epoch = 1000\n",
        "system_mae, weight = RBM_learning_rate_annealing(w, v0, learning_rate, epoch)\n",
        "print(system_mae)\n",
        "print(weight)"
      ],
      "metadata": {
        "colab": {
          "base_uri": "https://localhost:8080/"
        },
        "outputId": "71490238-0826-499c-95c6-d4c8fe14ea11",
        "id": "ahppIMDT7zLO"
      },
      "execution_count": null,
      "outputs": [
        {
          "output_type": "stream",
          "name": "stdout",
          "text": [
            "0.45\n",
            "[[-1.77511177 -0.64839331 -0.33124583 -0.51948668]\n",
            " [-0.67395812  0.21422829  3.73342431 -1.20454036]\n",
            " [ 1.85865023  0.15441086 -0.59121317  0.97029627]\n",
            " [-0.64393958  0.88339824 -0.09141305 -0.09373726]\n",
            " [ 0.99649357  0.54436479 -0.20415963  0.60644336]\n",
            " [ 0.46551973  0.49665801 -0.94670478 -1.46970637]\n",
            " [-1.15895868  0.88243849 -0.21320501  1.27275137]\n",
            " [-0.61392264  0.51508074 -0.29931804  0.08646545]\n",
            " [ 1.44839467 -0.65002708  0.40685399 -1.91809823]\n",
            " [ 0.58682414 -4.6796718   0.46682694  2.41443482]]\n"
          ]
        }
      ]
    },
    {
      "cell_type": "markdown",
      "source": [
        "## Add a bias to each layer"
      ],
      "metadata": {
        "id": "ebjkSdvw8GRV"
      }
    },
    {
      "cell_type": "code",
      "source": [
        "def RBM_bias(w, v0, learning_rate, epoch):\n",
        "  # Initialize the epoch counter\n",
        "  count = 0\n",
        "\n",
        "  # Initialize h0, v1, h1\n",
        "  h0 = np.zeros((4, 120))\n",
        "  v1 = np.zeros((10, 120))\n",
        "  h1 = np.zeros((4, 120))\n",
        "\n",
        "  # Inserts zeros to the first row, i.e. the weights of the bias and hidden layers are initialized to 0\n",
        "  w = np.insert(w, 0, 0, axis = 0)\n",
        "  # Inserts zeros to the first column, i.e. the weights of the bias and visible layers are initialized to 0\n",
        "  w = np.insert(w, 0, 0, axis = 1)\n",
        "  # Inserts ones to the first row, i.e. the weights of the bias are initialized to 1\n",
        "  v0 = np.insert(v0, 0, 1, axis = 0)\n",
        "\n",
        "  # Training process\n",
        "  while count < epoch:\n",
        "    # Set parameter a for sigmoid function\n",
        "    a_sigmoid = 1\n",
        "\n",
        "    # Given current weights, first sample the hidden nodes h0\n",
        "    # then resample the visible nodes v1,\n",
        "    # and then resample the hidden nodes h1\n",
        "    h0 = np.sign(sigmoid(np.matmul(w.T, v0), a_sigmoid) - np.random.uniform(0, 1))\n",
        "    v1 = np.sign(sigmoid(np.matmul(w, h0), a_sigmoid) - np.random.uniform(0, 1))\n",
        "    h1 = np.sign(sigmoid(np.matmul(w.T, v1), a_sigmoid) - np.random.uniform(0, 1))\n",
        "\n",
        "    # Compute weight update\n",
        "    positive_phase = np.matmul(v0, h0.T)\n",
        "    negative_phase = np.matmul(v1, h1.T)\n",
        "    w += learning_rate * (positive_phase - negative_phase) / np.size(v0)\n",
        "\n",
        "    # Update epoch counts\n",
        "    count += 1\n",
        "\n",
        "  # Measure the accuracy of the converged system\n",
        "  MAE = np.sum(abs(v0[1:,:] - v1[1:, :])) / np.size(v0)\n",
        "\n",
        "  return MAE, w"
      ],
      "metadata": {
        "id": "V8_1RLaI8S-X"
      },
      "execution_count": null,
      "outputs": []
    },
    {
      "cell_type": "markdown",
      "source": [
        "### Test with different learning rate and epoch times"
      ],
      "metadata": {
        "id": "IVhLpWNIzuPo"
      }
    },
    {
      "cell_type": "code",
      "source": [
        "# Set the learning rate\n",
        "learning_rate = 0.5\n",
        "# Set the max number of epochs\n",
        "epoch = 100\n",
        "system_mae, weight = RBM_bias(w, v0, learning_rate, epoch)\n",
        "print(system_mae)\n",
        "print(weight)"
      ],
      "metadata": {
        "colab": {
          "base_uri": "https://localhost:8080/"
        },
        "outputId": "ba9e69e7-9528-490a-9788-968039a73af9",
        "id": "geK7UrOOzuPo"
      },
      "execution_count": null,
      "outputs": [
        {
          "output_type": "stream",
          "name": "stdout",
          "text": [
            "0.3393939393939394\n",
            "[[-1.47045455  0.11060606 -0.1780303   0.30454545  0.04090909]\n",
            " [ 0.64318182 -1.82359662 -0.58399938 -0.28124583 -0.55282001]\n",
            " [-0.33333333 -0.69592782  0.13392525  3.86600007 -1.13105551]\n",
            " [ 0.08939394  1.74274114  0.1968351  -0.4434859   1.06650839]\n",
            " [ 0.04469697 -0.68484867  0.91294369 -0.0368676  -0.04222211]\n",
            " [ 0.57727273  0.96391781  0.45497085 -0.092796    0.71326154]\n",
            " [ 0.52045455  0.46097428  0.55802165 -0.79215933 -1.40303971]\n",
            " [ 0.35227273 -1.18623141  0.97259    -0.11472016  1.31063016]\n",
            " [ 0.2969697  -0.68134688  0.58629286 -0.18643926  0.09631393]\n",
            " [-0.00757576  1.43551588 -0.67881496  0.41821763 -1.77188611]\n",
            " [-0.02424242  0.55727868 -4.62512635  0.51909967  2.54701058]]\n"
          ]
        }
      ]
    },
    {
      "cell_type": "code",
      "source": [
        "# Set the learning rate\n",
        "learning_rate = 0.1\n",
        "# Set the max number of epochs\n",
        "epoch = 100\n",
        "system_mae, weight = RBM_bias(w, v0, learning_rate, epoch)\n",
        "print(system_mae)\n",
        "print(weight)"
      ],
      "metadata": {
        "colab": {
          "base_uri": "https://localhost:8080/"
        },
        "outputId": "ffca708d-550c-49fe-9de3-d56927627825",
        "id": "7Rx6jd63zuPp"
      },
      "execution_count": null,
      "outputs": [
        {
          "output_type": "stream",
          "name": "stdout",
          "text": [
            "0.3484848484848485\n",
            "[[ 2.06060606e-02  4.77272727e-02 -9.33333333e-02  1.08939394e-01\n",
            "  -2.87878788e-02]\n",
            " [-3.24242424e-02 -1.76162692e+00 -6.44150891e-01 -3.55639769e-01\n",
            "  -5.37971526e-01]\n",
            " [-6.96969697e-03 -6.85321755e-01  1.81197982e-01  3.72842431e+00\n",
            "  -1.18090399e+00]\n",
            " [-2.13636364e-02  1.83622599e+00  1.49713886e-01 -6.01213170e-01\n",
            "   9.90447789e-01]\n",
            " [-9.24242424e-03 -6.48788067e-01  8.47186114e-01 -1.15049418e-01\n",
            "  -8.87372606e-02]\n",
            " [-4.22727273e-02  9.48614780e-01  5.48152668e-01 -2.24462665e-01\n",
            "   6.01746392e-01]\n",
            " [-1.71212121e-02  4.41883370e-01  4.93476193e-01 -9.38522962e-01\n",
            "  -1.47470637e+00]\n",
            " [-4.00000000e-02 -1.15365565e+00  8.81832427e-01 -2.23053492e-01\n",
            "   1.24699379e+00]\n",
            " [-3.13636364e-02 -6.27559001e-01  5.00989829e-01 -2.84166529e-01\n",
            "   8.41927190e-02]\n",
            " [-8.63636364e-03  1.39415225e+00 -6.29572535e-01  3.63217629e-01\n",
            "  -1.92128005e+00]\n",
            " [-3.33333333e-03  5.68187776e-01 -4.68239908e+00  4.86675428e-01\n",
            "   2.41776815e+00]]\n"
          ]
        }
      ]
    },
    {
      "cell_type": "code",
      "source": [
        "# Set the learning rate\n",
        "learning_rate = 0.5\n",
        "# Set the max number of epochs\n",
        "epoch = 200\n",
        "system_mae, weight = RBM_bias(w, v0, learning_rate, epoch)\n",
        "print(system_mae)\n",
        "print(weight)"
      ],
      "metadata": {
        "colab": {
          "base_uri": "https://localhost:8080/"
        },
        "outputId": "5364d280-38c8-4bb3-a405-d1b9d8e95339",
        "id": "RUjztJKAzuPp"
      },
      "execution_count": null,
      "outputs": [
        {
          "output_type": "stream",
          "name": "stdout",
          "text": [
            "0.3939393939393939\n",
            "[[-2.63333333e+00  2.65151515e-01 -1.01515152e-01  3.12878788e-01\n",
            "   1.62121212e-01]\n",
            " [ 7.36363636e-01 -1.90389965e+00 -6.80211497e-01 -1.15336738e-01\n",
            "  -6.31607889e-01]\n",
            " [-2.12121212e-01 -5.92139937e-01  2.17258588e-01  3.80690916e+00\n",
            "  -1.00757066e+00]\n",
            " [ 3.53787879e-01  1.75183205e+00  1.15774492e-01 -4.85152564e-01\n",
            "   1.02711446e+00]\n",
            " [-1.68181818e-01 -7.30303219e-01  8.65216417e-01 -5.88372970e-02\n",
            "  -4.34332118e-03]\n",
            " [ 6.38636364e-01  1.02603902e+00  4.31486002e-01 -8.59778166e-02\n",
            "   5.85988817e-01]\n",
            " [ 5.68181818e-01  5.35216703e-01  4.13324678e-01 -8.33825992e-01\n",
            "  -1.49394880e+00]\n",
            " [ 2.23484848e-01 -1.21123141e+00  8.25620305e-01 -1.07144401e-01\n",
            "   1.42350894e+00]\n",
            " [-7.95454545e-02 -6.20740819e-01  4.84020132e-01 -1.75075620e-01\n",
            "   9.63139312e-02]\n",
            " [-2.60606061e-01  1.46506134e+00 -6.28814959e-01  3.31853992e-01\n",
            "  -1.86506793e+00]\n",
            " [ 1.40151515e-01  5.92127169e-01 -4.86376271e+00  5.10766337e-01\n",
            "   2.33488937e+00]]\n"
          ]
        }
      ]
    },
    {
      "cell_type": "code",
      "source": [
        "# Set the learning rate\n",
        "learning_rate = 0.1\n",
        "# Set the max number of epochs\n",
        "epoch = 200\n",
        "system_mae, weight = RBM_bias(w, v0, learning_rate, epoch)\n",
        "print(system_mae)\n",
        "print(weight)"
      ],
      "metadata": {
        "colab": {
          "base_uri": "https://localhost:8080/"
        },
        "outputId": "445ba85b-c490-4512-a1ec-5b8d92597d2e",
        "id": "daaR-ld5zuPp"
      },
      "execution_count": null,
      "outputs": [
        {
          "output_type": "stream",
          "name": "stdout",
          "text": [
            "0.44242424242424244\n",
            "[[ 5.90909091e-03  8.13636364e-02 -1.93939394e-01  2.68030303e-01\n",
            "  -1.75757576e-02]\n",
            " [-8.12121212e-02 -1.86086935e+00 -6.75211497e-01 -3.84276132e-01\n",
            "  -5.94789708e-01]\n",
            " [ 4.24242424e-03 -6.32745998e-01  1.93167679e-01  3.74463643e+00\n",
            "  -1.13317672e+00]\n",
            " [ 5.96969697e-02  1.82531690e+00  1.54865401e-01 -5.27879836e-01\n",
            "   9.92569001e-01]\n",
            " [-7.74242424e-02 -7.22272916e-01  8.74610357e-01 -1.27625176e-01\n",
            "  -1.34949382e-01]\n",
            " [ 1.30303030e-02  9.74069326e-01  4.95122365e-01 -2.14159635e-01\n",
            "   6.22655483e-01]\n",
            " [-9.09090909e-03  4.14004582e-01  4.87112556e-01 -9.51553265e-01\n",
            "  -1.54470637e+00]\n",
            " [-7.24242424e-02 -1.24653444e+00  8.93802124e-01 -2.28659552e-01\n",
            "   1.25502409e+00]\n",
            " [-5.07575758e-02 -7.54377183e-01  5.05686798e-01 -3.26742286e-01\n",
            "   3.55563554e-02]\n",
            " [ 1.66666667e-02  1.40233406e+00 -6.55330110e-01  3.84429750e-01\n",
            "  -1.95915884e+00]\n",
            " [-1.06060606e-02  5.59854442e-01 -4.74345968e+00  5.02584519e-01\n",
            "   2.37185906e+00]]\n"
          ]
        }
      ]
    },
    {
      "cell_type": "code",
      "source": [
        "# Set the learning rate\n",
        "learning_rate = 0.5\n",
        "# Set the max number of epochs\n",
        "epoch = 1000\n",
        "system_mae, weight = RBM_bias(w, v0, learning_rate, epoch)\n",
        "print(system_mae)\n",
        "print(weight)"
      ],
      "metadata": {
        "colab": {
          "base_uri": "https://localhost:8080/"
        },
        "outputId": "26550b9b-36c4-4e2f-9c03-4887f8c1d32b",
        "id": "EaPbNLlfzuPq"
      },
      "execution_count": null,
      "outputs": [
        {
          "output_type": "stream",
          "name": "stdout",
          "text": [
            "0.48787878787878786\n",
            "[[-4.10681818e+00 -4.01515152e-02  3.66666667e-01  4.37121212e-01\n",
            "   5.54545455e-01]\n",
            " [ 4.40909091e-01 -1.85541480e+00 -3.67332709e-01  1.87541707e-02\n",
            "  -2.65698798e-01]\n",
            " [-2.37878788e-01 -4.17897513e-01  2.86464879e-03  4.19251522e+00\n",
            "  -1.26741915e+00]\n",
            " [ 4.34848485e-01  2.15107447e+00  1.67289644e-01 -3.00304079e-01\n",
            "   1.14681143e+00]\n",
            " [-3.32575758e-01 -7.68939582e-01  8.66731569e-01 -7.55039636e-02\n",
            "  -1.17979685e-01]\n",
            " [ 5.58333333e-01  1.34270569e+00  3.73152668e-01  2.53858198e-02\n",
            "   7.01897908e-01]\n",
            " [ 3.06060606e-01  4.53398521e-01  3.77718617e-01 -7.31553265e-01\n",
            "  -1.70531243e+00]\n",
            " [ 2.60606061e-01 -1.21804959e+00  8.36226366e-01  8.00711448e-03\n",
            "   1.37956955e+00]\n",
            " [-2.11363636e-01 -6.88922637e-01  5.96898919e-01 -1.48560468e-01\n",
            "   1.21313931e-01]\n",
            " [-6.24242424e-01  1.10597043e+00 -6.17451323e-01  3.99278235e-01\n",
            "  -1.51734065e+00]\n",
            " [ 2.80303030e-01  2.74702927e-01 -5.04255059e+00  2.95614822e-01\n",
            "   2.07276815e+00]]\n"
          ]
        }
      ]
    },
    {
      "cell_type": "code",
      "source": [
        "# Set the learning rate\n",
        "learning_rate = 0.1\n",
        "# Set the max number of epochs\n",
        "epoch = 1000\n",
        "system_mae, weight = RBM_bias(w, v0, learning_rate, epoch)\n",
        "print(system_mae)\n",
        "print(weight)"
      ],
      "metadata": {
        "colab": {
          "base_uri": "https://localhost:8080/"
        },
        "outputId": "13cabfac-d820-432a-f8af-428111c93042",
        "id": "rLf5TfZ5zuPq"
      },
      "execution_count": null,
      "outputs": [
        {
          "output_type": "stream",
          "name": "stdout",
          "text": [
            "0.3560606060606061\n",
            "[[ 1.29742424  0.175      -0.26727273  0.28939394 -0.1469697 ]\n",
            " [-0.31560606 -1.75132389 -0.64657513 -0.39367007 -0.5806988 ]\n",
            " [-0.16515152 -0.74123085  0.25953132  3.78327279 -1.06923733]\n",
            " [-0.27333333  1.83228659  0.27941086 -0.49227378  1.14469021]\n",
            " [ 0.17742424 -0.6740911   0.97612551 -0.13080699 -0.0431312 ]\n",
            " [-0.67454545  1.0898269   0.56694055 -0.12400812  0.7108373 ]\n",
            " [-0.28348485  0.46082276  0.5905974  -0.88064417 -1.44122152]\n",
            " [-0.24772727 -1.20153444  1.01940818 -0.17744743  1.379115  ]\n",
            " [-0.05590909 -0.64164991  0.58659589 -0.30022713  0.14979878]\n",
            " [ 0.08060606  1.39445528 -0.5392695   0.3548843  -1.80370429]\n",
            " [-0.03242424  0.55349081 -4.66952029  0.46606937  2.43488937]]\n"
          ]
        }
      ]
    },
    {
      "cell_type": "markdown",
      "source": [
        "## **Change the number of hidden units**"
      ],
      "metadata": {
        "id": "0vW8wtMZlqgf"
      }
    },
    {
      "cell_type": "code",
      "source": [
        "def RBM_more_h(w, v0, learning_rate, epoch):\n",
        "  # Initialize the epoch counter\n",
        "  count = 0\n",
        "\n",
        "  # Initialize h0, v1, h1\n",
        "  h0 = np.zeros((10, 120))\n",
        "  v1 = np.zeros((10, 120))\n",
        "  h1 = np.zeros((10, 120))\n",
        "  \n",
        "  # Training process\n",
        "  while count < epoch:\n",
        "    # Set parameter a for sigmoid function\n",
        "    a_sigmoid = 1\n",
        "\n",
        "    # Given current weights, first sample the hidden nodes h0\n",
        "    # then resample the visible nodes v1,\n",
        "    # and then resample the hidden nodes h1\n",
        "    h0 = np.sign(sigmoid(np.matmul(w.T, v0), a_sigmoid) - np.random.uniform(0, 1))\n",
        "    v1 = np.sign(sigmoid(np.matmul(w, h0), a_sigmoid) - np.random.uniform(0, 1))\n",
        "    h1 = np.sign(sigmoid(np.matmul(w.T, v1), a_sigmoid) - np.random.uniform(0, 1))\n",
        "\n",
        "    # Compute weight update\n",
        "    positive_phase = np.matmul(v0, h0.T)\n",
        "    negative_phase = np.matmul(v1, h1.T)\n",
        "    w += learning_rate * (positive_phase - negative_phase) / np.size(v0)\n",
        "\n",
        "    # Learning rate annealing\n",
        "    learning_rate *= 0.5\n",
        "\n",
        "    # Update epoch counts\n",
        "    count += 1\n",
        "\n",
        "  # Measure the accuracy of the converged system\n",
        "  MAE = np.sum(abs(v0 - v1)) / np.size(v0)\n",
        "  \n",
        "  return MAE, w"
      ],
      "metadata": {
        "id": "aEoS9WNakpVT"
      },
      "execution_count": null,
      "outputs": []
    },
    {
      "cell_type": "markdown",
      "source": [
        "### Test with different learning rate and epoch times"
      ],
      "metadata": {
        "id": "axghlmQHl4MI"
      }
    },
    {
      "cell_type": "code",
      "source": [
        "# Randomly initialize W, a 10 (visible) * 10 (hidden) weight matrix\n",
        "w_more = np.random.randn(10 , 10) * np.sqrt(2 / (10 + 10))\n",
        "# Set the learning rate\n",
        "learning_rate = 0.5\n",
        "# Set the max number of epochs\n",
        "epoch = 100\n",
        "system_mae, weight = RBM_more_h(w_more, v0, learning_rate, epoch)\n",
        "print(system_mae)\n",
        "print(weight)"
      ],
      "metadata": {
        "colab": {
          "base_uri": "https://localhost:8080/"
        },
        "id": "DgSMFGfekymf",
        "outputId": "5e512659-0b61-4032-d2a8-9ea6f1becff1"
      },
      "execution_count": null,
      "outputs": [
        {
          "output_type": "stream",
          "name": "stdout",
          "text": [
            "1.085\n",
            "[[-0.08097019  0.26383662 -0.50069068  0.4547151  -0.38511407  0.66485974\n",
            "  -0.02066212  0.22431936  0.11898294  0.2782418 ]\n",
            " [-0.02268237 -0.24597971  0.04652167  0.01443663 -0.35917271  0.26880178\n",
            "  -0.38627258  0.17039958  0.1352984   0.08761471]\n",
            " [-0.44293604  0.09362087  0.01246922 -1.00283138  0.35738663  0.20555317\n",
            "   0.00183537 -0.27051712 -0.13734106  0.19123665]\n",
            " [ 0.2928935  -0.00385137  0.11601378 -0.14182097 -0.39792651  0.75533319\n",
            "   0.09365109 -0.36902181  0.31620856 -0.47232163]\n",
            " [-0.24497747 -0.47456734 -0.0412395   0.14641991  0.25868946 -0.33154952\n",
            "   0.23434463  0.31092635 -0.01902346  0.06661858]\n",
            " [ 0.33174139  0.21167675 -0.55924418 -0.27378456  0.18058816  0.27957877\n",
            "  -0.16391439  0.32206484 -0.11089064  0.43245394]\n",
            " [-0.40738555 -0.33722909 -0.10265176 -0.11958844 -0.05020746  0.3852248\n",
            "  -0.08003749 -0.25344679  0.75339964 -0.06296106]\n",
            " [ 0.11740132 -0.24194919 -0.32880815 -0.3270331  -0.11846156  0.16897731\n",
            "  -0.21518366  0.11264306  0.11437887 -0.20357661]\n",
            " [ 0.1538      0.28289857 -0.22750013 -0.21635601 -0.52023322  0.53149166\n",
            "  -0.1291039   0.26575845 -0.26348714 -0.49146559]\n",
            " [-0.0746292  -0.68213117 -0.25574881 -0.64168474 -0.04119021  0.56590251\n",
            "  -0.36918942 -0.051467   -0.3944803  -0.46773817]]\n"
          ]
        }
      ]
    },
    {
      "cell_type": "code",
      "source": [
        "# Randomly initialize W, a 10 (visible) * 10 (hidden) weight matrix\n",
        "w_more = np.random.randn(10 , 10) * np.sqrt(2 / (10 + 10))\n",
        "# Set the learning rate\n",
        "learning_rate = 0.1\n",
        "# Set the max number of epochs\n",
        "epoch = 100\n",
        "system_mae, weight = RBM_more_h(w_more, v0, learning_rate, epoch)\n",
        "print(system_mae)\n",
        "print(weight)"
      ],
      "metadata": {
        "colab": {
          "base_uri": "https://localhost:8080/"
        },
        "id": "tTOXpomllVC6",
        "outputId": "ac18b2b6-44e4-49b7-d7f8-2f2a942a23f3"
      },
      "execution_count": null,
      "outputs": [
        {
          "output_type": "stream",
          "name": "stdout",
          "text": [
            "0.6083333333333333\n",
            "[[-0.25872674 -0.4072403  -0.27620819 -0.31252491  0.00987843 -0.17196475\n",
            "   0.13404874 -0.02461274 -0.19787461  0.0263917 ]\n",
            " [-0.56468301 -0.0668138  -0.2298263  -0.61960051 -0.19325584 -0.235513\n",
            "  -0.07786373  0.40560778  0.02708761  0.74978995]\n",
            " [-0.07475659  0.38693088 -0.71799708  0.29398144 -0.39242432 -0.17997136\n",
            "  -0.09464694 -0.4797146  -0.12131923 -0.3584332 ]\n",
            " [-0.28954678  0.36550887 -0.61766717 -0.16502754 -0.87495811 -0.17824758\n",
            "  -0.14502004 -0.29528359  0.18343665 -0.39825848]\n",
            " [-0.29428575  0.13413034 -0.03515487  0.16803815 -0.16117506 -0.1282341\n",
            "   0.4002691  -0.16010583 -0.05886255  0.31500491]\n",
            " [-0.6012498  -0.6361889   0.06773009 -0.2560405   0.3865033  -0.47133588\n",
            "  -0.02378268  0.71603471  0.51543774  0.48314892]\n",
            " [ 0.26335909 -0.86295695  0.68426126  0.01576104 -0.29484395 -0.15538488\n",
            "  -0.23451862  0.32766385  0.27030019 -0.13108824]\n",
            " [ 0.28707637 -0.09719662 -0.4269083  -0.62158324  0.12993907 -0.18294069\n",
            "  -0.50271222  0.02800377 -0.48841819  0.36303425]\n",
            " [-0.0958982  -0.36541476 -0.31586447 -0.23081507  0.01573014  0.17408573\n",
            "  -0.55225687 -0.19471299  0.43723712  0.22493037]\n",
            " [-0.36094993  0.09819402  0.175018   -0.44347075  0.08350472  0.23790675\n",
            "  -0.37089126 -0.19873173 -0.12693797  0.25065216]]\n"
          ]
        }
      ]
    },
    {
      "cell_type": "code",
      "source": [
        "# Randomly initialize W, a 10 (visible) * 10 (hidden) weight matrix\n",
        "w_more = np.random.randn(10 , 10) * np.sqrt(2 / (10 + 10))\n",
        "# Set the learning rate\n",
        "learning_rate = 0.5\n",
        "# Set the max number of epochs\n",
        "epoch = 200\n",
        "system_mae, weight = RBM_more_h(w_more, v0, learning_rate, epoch)\n",
        "print(system_mae)\n",
        "print(weight)"
      ],
      "metadata": {
        "colab": {
          "base_uri": "https://localhost:8080/"
        },
        "id": "Lww_XOSelYBi",
        "outputId": "5b01da67-2639-4531-a02d-78cb2391ef9e"
      },
      "execution_count": null,
      "outputs": [
        {
          "output_type": "stream",
          "name": "stdout",
          "text": [
            "0.92\n",
            "[[ 0.54136559 -0.5572288  -0.64308604  0.27654026  0.12567835  0.26188954\n",
            "   0.09901992  0.48081541 -0.0077258   0.18687053]\n",
            " [-0.15932052 -0.25513747 -0.22936676  0.36112305 -0.23423679 -0.53165294\n",
            "  -0.0927443  -0.15865164  0.05028261 -0.22818201]\n",
            " [-0.0481107  -0.27852562 -0.24362937 -0.10109256 -0.39897748 -0.37649153\n",
            "  -0.01258267 -0.48416413 -0.09043926  0.02778084]\n",
            " [-0.07470419 -0.18495173  0.69453061  0.48522712 -0.19074159 -0.22889499\n",
            "   0.07327485 -0.2623156  -0.31696959  0.24698016]\n",
            " [ 0.18136211 -0.18600737 -0.43048721  0.11146605 -0.14027404 -0.31878369\n",
            "   0.08414237 -0.1684669  -0.01224886  0.54653992]\n",
            " [ 0.25625357 -0.15522063  0.5627927   0.19797216 -0.27630509  0.14154664\n",
            "  -0.1120323  -0.19451799  0.18550106  0.5777977 ]\n",
            " [ 0.24423878  0.39865334 -0.38482546  0.03876875 -0.08333434  0.07380494\n",
            "  -0.05183187 -0.10322385 -0.10818601 -0.04575844]\n",
            " [ 0.56266749  0.1496116  -0.01624069 -0.01422779  0.24874845  0.40575323\n",
            "  -0.24959349 -0.32191454  0.05574505 -0.06062328]\n",
            " [ 0.00180581 -0.21208575  0.20686725  0.05363401  0.46955391 -0.37910598\n",
            "   0.49381707  0.48829669 -0.0159579   0.02433247]\n",
            " [ 0.41241528  0.14967114 -0.31241746  0.13170365 -0.12904346  0.15193821\n",
            "   0.13411512  0.35827812  0.30587409  0.07664558]]\n"
          ]
        }
      ]
    },
    {
      "cell_type": "code",
      "source": [
        "# Randomly initialize W, a 10 (visible) * 10 (hidden) weight matrix\n",
        "w_more = np.random.randn(10 , 10) * np.sqrt(2 / (10 + 10))\n",
        "# Set the learning rate\n",
        "learning_rate = 0.1\n",
        "# Set the max number of epochs\n",
        "epoch = 200\n",
        "system_mae, weight = RBM_more_h(w_more, v0, learning_rate, epoch)\n",
        "print(system_mae)\n",
        "print(weight)"
      ],
      "metadata": {
        "colab": {
          "base_uri": "https://localhost:8080/"
        },
        "id": "YUIZAYNclcwJ",
        "outputId": "f1f24cc5-1b77-4f1e-942a-f761495ec658"
      },
      "execution_count": null,
      "outputs": [
        {
          "output_type": "stream",
          "name": "stdout",
          "text": [
            "0.8716666666666667\n",
            "[[ 0.15521175  0.19342363  0.02798023 -0.04641947  0.35413533  0.50363658\n",
            "  -0.63056187  0.00594775  0.24199334 -0.25527994]\n",
            " [-0.23580481 -0.77291016 -0.59192386 -0.56041077 -0.38536253 -0.22130287\n",
            "  -0.22796951 -0.13153126 -0.09370489 -0.01323527]\n",
            " [ 0.08564604  0.17425349 -0.09974343 -0.39465305  0.10890555 -0.01345401\n",
            "  -0.17384406  0.24527034  0.001019   -0.28839367]\n",
            " [-0.11210056 -0.0189178  -0.02514528  0.27184259  0.00136268  0.1010351\n",
            "  -0.26639686  0.07070345  0.14957928 -0.1164274 ]\n",
            " [ 0.07615151  0.19743707  0.50863704 -0.02039167  0.15478232 -0.17093605\n",
            "   0.1577662   0.18857781 -0.444372    0.38661527]\n",
            " [-0.28286888 -0.1923979   0.31235981  0.28876635  0.17483211 -0.04665109\n",
            "  -0.20076108 -0.60504406 -0.17622535 -0.00524819]\n",
            " [ 0.00907783 -0.32202283 -0.2557846  -0.13476887 -0.27775526 -0.27005378\n",
            "  -0.18409109 -0.04491423  0.09248732  0.18475455]\n",
            " [ 0.25370421 -0.02638963  0.14122169  0.12615128  0.20499688 -0.1012361\n",
            "   0.04048999 -0.09567061  0.49846591  0.1513984 ]\n",
            " [-0.59267926  0.22220157 -0.4182854  -0.21963192 -0.45376853  0.23841526\n",
            "   0.5367086  -0.18292411 -0.18120984 -0.1745936 ]\n",
            " [ 0.15592237  0.29197409 -0.09092535  0.01729849 -0.08999402  0.14149286\n",
            "   0.09142709 -0.16227991 -0.03837127 -0.19260889]]\n"
          ]
        }
      ]
    },
    {
      "cell_type": "code",
      "source": [
        "# Randomly initialize W, a 10 (visible) * 10 (hidden) weight matrix\n",
        "w_more = np.random.randn(10 , 10) * np.sqrt(2 / (10 + 10))\n",
        "# Set the learning rate\n",
        "learning_rate = 0.5\n",
        "# Set the max number of epochs\n",
        "epoch = 1000\n",
        "system_mae, weight = RBM_more_h(w_more, v0, learning_rate, epoch)\n",
        "print(system_mae)\n",
        "print(weight)"
      ],
      "metadata": {
        "colab": {
          "base_uri": "https://localhost:8080/"
        },
        "id": "VpjFFfnHlfLF",
        "outputId": "14ce1554-b75d-4a34-c870-7550538ca468"
      },
      "execution_count": null,
      "outputs": [
        {
          "output_type": "stream",
          "name": "stdout",
          "text": [
            "0.9683333333333334\n",
            "[[-0.40982218  0.14359305  0.23050682  0.28649463 -0.21985994 -0.4573292\n",
            "  -0.04309113 -0.16357744 -0.04726652  0.47456613]\n",
            " [-0.19715095 -0.39942927 -0.15389198 -0.08899381  0.26209832  0.25687953\n",
            "  -0.51332866 -0.48007818 -0.46796661  0.12040122]\n",
            " [ 0.59757009  0.05875416 -0.17814578  0.15409918 -0.44604994  0.23167451\n",
            "  -0.16458014  0.15777256 -0.13505157 -0.25973327]\n",
            " [-0.02028526 -0.34067905  0.76520284 -0.13734108 -0.14328032  0.20035912\n",
            "   0.3338073   0.27034168 -0.21579395  0.19331345]\n",
            " [ 0.00351938  0.12082166 -0.51388548  0.07135117 -0.07777453  0.20454621\n",
            "   0.1947376   0.07536253  0.79328179 -0.03144291]\n",
            " [ 0.09025391  0.2174214  -0.07032233 -0.35905747 -0.39146661 -0.07573489\n",
            "   0.23952501  0.45905941  0.14610522 -0.33991629]\n",
            " [ 0.45089375 -0.12696305 -0.5043952   0.40844206  0.35507427  0.2913269\n",
            "  -0.03250303  0.35212919 -0.14815203 -0.47846906]\n",
            " [ 0.16348938  0.03468788 -0.54147872 -0.35095281  0.35154757  0.22290864\n",
            "  -0.01002135 -0.70727551 -0.05464421  0.03994299]\n",
            " [ 0.10043333 -0.30702687  0.26821857  0.13082143  0.16991495  0.02670673\n",
            "   0.08951447  0.0035063   0.42621203 -0.45886112]\n",
            " [-0.4125425   0.18820699  0.28293025 -0.34825158  0.08797467 -0.29230052\n",
            "  -0.1869836   0.99857638 -0.46793976 -0.01754379]]\n"
          ]
        }
      ]
    },
    {
      "cell_type": "code",
      "source": [
        "# Randomly initialize W, a 10 (visible) * 10 (hidden) weight matrix\n",
        "w_more = np.random.randn(10 , 10) * np.sqrt(2 / (10 + 10))\n",
        "# Set the learning rate\n",
        "learning_rate = 0.1\n",
        "# Set the max number of epochs\n",
        "epoch = 1000\n",
        "system_mae, weight = RBM_more_h(w_more, v0, learning_rate, epoch)\n",
        "print(system_mae)\n",
        "print(weight)"
      ],
      "metadata": {
        "colab": {
          "base_uri": "https://localhost:8080/"
        },
        "id": "JqwsWqpjlhPo",
        "outputId": "f8ad695a-7d84-4a1f-af9f-b5a024b3b6d8"
      },
      "execution_count": null,
      "outputs": [
        {
          "output_type": "stream",
          "name": "stdout",
          "text": [
            "1.0766666666666667\n",
            "[[-0.0865901   0.28000812 -0.18208612  0.33842577  0.05963708  0.59429809\n",
            "  -0.01902684 -0.23922812  0.05624038  0.27031018]\n",
            " [-0.43187747 -0.51000368 -0.20623935 -0.60922782 -0.03015653  0.34625997\n",
            "   0.35233305  0.36833868  0.29315485  0.3415927 ]\n",
            " [-0.05949544  0.35628244 -0.12073245 -0.10090855  0.20837673  0.43361457\n",
            "  -0.27591681 -0.42246796 -0.09162624  0.09572261]\n",
            " [ 0.21153379  0.06129708 -0.21208032  0.25606182 -0.16019882  0.53739099\n",
            "   0.03534151 -0.17658658  0.38982381  0.27945466]\n",
            " [ 0.21796677 -0.29938626  0.22197634  0.39388648  0.10151053  0.05743566\n",
            "  -0.28368863  0.15384471 -0.58994002 -0.42896972]\n",
            " [-0.13093906  0.15032347  0.08676116  0.12671514 -0.02454299  0.34036262\n",
            "   0.29534221 -0.67987892  0.20554754  0.12655606]\n",
            " [-0.13749635  0.32285686  0.40264373 -0.39941958 -0.03337043  0.57446299\n",
            "   0.36985485  0.1960965   0.534051   -0.32039226]\n",
            " [-0.16319785  0.20462294 -0.39029528 -0.02888469 -0.2243129   0.34413999\n",
            "   0.17419427  0.01160775 -0.15721149  0.64521836]\n",
            " [ 0.26904948 -0.43505428 -0.04383349  0.15755788 -0.34720869  0.05567971\n",
            "   0.20164562  0.2358646  -0.24505357 -0.34705508]\n",
            " [-0.32147988  0.0136091   0.45865436  0.33964226 -0.17331188 -0.107418\n",
            "  -0.03926706  0.48628504  0.11940163  0.8393436 ]]\n"
          ]
        }
      ]
    }
  ]
}