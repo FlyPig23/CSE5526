{
  "nbformat": 4,
  "nbformat_minor": 0,
  "metadata": {
    "colab": {
      "name": "CSE 5526 Lab 1.ipynb",
      "provenance": [],
      "collapsed_sections": [],
      "authorship_tag": "ABX9TyN139CIf+p+YYNAboxtvRbe",
      "include_colab_link": true
    },
    "kernelspec": {
      "name": "python3",
      "display_name": "Python 3"
    },
    "language_info": {
      "name": "python"
    }
  },
  "cells": [
    {
      "cell_type": "markdown",
      "metadata": {
        "id": "view-in-github",
        "colab_type": "text"
      },
      "source": [
        "<a href=\"https://colab.research.google.com/github/FlyPig23/CSE5526/blob/main/CSE_5526_Lab_1.ipynb\" target=\"_parent\"><img src=\"https://colab.research.google.com/assets/colab-badge.svg\" alt=\"Open In Colab\"/></a>"
      ]
    },
    {
      "cell_type": "markdown",
      "source": [
        "Generate 200 data points by sampling (x1, x2) uniformly from ({-1,1}, {-1,1}). The target is determined by (|sinx1π| > |x2|)."
      ],
      "metadata": {
        "id": "3qzF_l3OlHsq"
      }
    },
    {
      "cell_type": "code",
      "execution_count": null,
      "metadata": {
        "id": "q2rsXP4ykUf_",
        "colab": {
          "base_uri": "https://localhost:8080/",
          "height": 265
        },
        "outputId": "28460613-add6-4b29-8c08-901b1052d814"
      },
      "outputs": [
        {
          "output_type": "display_data",
          "data": {
            "image/png": "[encoded data removed]",
            "text/plain": [
              "<Figure size 432x288 with 1 Axes>"
            ]
          },
          "metadata": {
            "needs_background": "light"
          }
        }
      ],
      "source": [
        "import numpy as np\n",
        "import matplotlib.pyplot as plt\n",
        "\n",
        "# Fixing random state for reproducibility\n",
        "np.random.seed(0)\n",
        "\n",
        "# Randomly pick 200 points\n",
        "npoints = 200\n",
        "x1 = np.random.uniform(-1, 1, npoints)\n",
        "x2 = np.random.uniform(-1, 1, npoints)\n",
        "\n",
        "# Determine each point's label\n",
        "target = np.where(np.absolute(np.sin(x1 * np.pi)) > np.absolute(x2), 1, 0)\n",
        "\n",
        "# Assign labes to each point and display the data\n",
        "colors = []\n",
        "for i in range (npoints):\n",
        "  if target[i] == 1:\n",
        "    colors.append('blue')\n",
        "  else:\n",
        "    colors.append('orange')\n",
        "plt.scatter(x1, x2, s = 5, c = colors)\n",
        "plt.show()"
      ]
    },
    {
      "cell_type": "markdown",
      "source": [
        "Generate another 200 points as a separate test set."
      ],
      "metadata": {
        "id": "BhzuzTjGSlFJ"
      }
    },
    {
      "cell_type": "code",
      "source": [
        "# Randomly pick 200 points\n",
        "t1 = np.random.uniform(-1, 1, npoints)\n",
        "t2 = np.random.uniform(-1, 1, npoints)\n",
        "\n",
        "# Determine each point's desired label\n",
        "test_target = np.where(np.absolute(np.sin(t1 * np.pi)) > np.absolute(t2), 1, 0)"
      ],
      "metadata": {
        "id": "NCSFCfu7S9Pc"
      },
      "execution_count": null,
      "outputs": []
    },
    {
      "cell_type": "markdown",
      "source": [
        "Implement a two-layer perceptron with the backpropagation algorithm to model the training distribution.\n",
        "This network uses 2 input elements, 6 hidden units for the first layer, and 1 output unit for the second layer."
      ],
      "metadata": {
        "id": "RFkiOCuqbaNQ"
      }
    },
    {
      "cell_type": "code",
      "source": [
        "def sigmoid(x, a):\n",
        "  return 1/(1 + np.exp(x * (-a)))\n",
        "\n",
        "def sigmoid_derivative(x, a):\n",
        "  return a * sigmoid(x, a) * (1 - sigmoid(x, a))\n",
        "\n",
        "# Initialize all weights to random numbers between -0.1 and 0.1, including bias weights\n",
        "# Weights between input and the first layer is denoted as weights_ji\n",
        "# Weights between the first layer and the second layer is denoted as weights_kj\n",
        "weights_ji = np.random.uniform(-0.1, 0.1, (6, 3))\n",
        "weights_kj = np.random.uniform(-0.1, 0.1, (1, 7))\n",
        "def backpropagation(input1, input2, desired_output, learning_rate):\n",
        "  # Initialize the status value, and the epoch counter\n",
        "  stop = False\n",
        "  epoch = 0\n",
        "\n",
        "  # Initialize all bias to random numbers between -0.1 and 0.1 and merge into the input array\n",
        "  # Bias from input is denoted as bias_i\n",
        "  # Bias from the first layer is denoted as bias_j\n",
        "  bias_i = np.ones(npoints)\n",
        "  bias_j = np.ones(npoints)\n",
        "  all_input = np.vstack((bias_i, input1, input2))\n",
        "\n",
        "  # Training process\n",
        "  while not stop:\n",
        "    a_sigmoid = 1\n",
        "    # Compute values of the first layer\n",
        "    y_j = sigmoid(np.dot(weights_ji, all_input), a_sigmoid)\n",
        "    # Merge the first layer results with bias\n",
        "    y_j_bias = np.vstack((bias_j, y_j))\n",
        "    # Compute actual output\n",
        "    y_k = sigmoid(np.dot(weights_kj, y_j_bias), a_sigmoid)\n",
        "    # Count epoch\n",
        "    epoch += 1\n",
        "\n",
        "    if epoch % 100 != 0:\n",
        "      # Update weights\n",
        "      for index in range(npoints):\n",
        "        # Compute value of \n",
        "        phi_derivative_k = sigmoid_derivative(np.dot(weights_kj, y_j_bias[:,index]), a_sigmoid)\n",
        "        error = desired_output[index] - y_k[:,index]\n",
        "        # Update weights for the second layer\n",
        "        for j in range(weights_kj.size):\n",
        "          weights_kj[0,j] = weights_kj[0,j] + learning_rate * phi_derivative_k * error * y_j_bias[j,index]\n",
        "        # Update weights for the first layer\n",
        "        for j in range(weights_ji.shape[0]):\n",
        "          for i in range(weights_ji.shape[1]):\n",
        "            phi_derivative_j = sigmoid_derivative(np.dot(weights_ji[j,:], all_input[:,index]), a_sigmoid)\n",
        "            weights_ji[j,i] = weights_ji[j,i] + learning_rate * phi_derivative_j * np.inner(weights_kj[0,j], phi_derivative_k * error) * all_input[i,index]\n",
        "    else:\n",
        "      # Compute the Mean Square Error after each 100 epochs\n",
        "      mean_sqaure_loss = np.sum((desired_output - y_k) ** 2) / npoints\n",
        "      print('After', epoch, 'epochs, the Mean Square Error is ', mean_sqaure_loss)\n",
        "      # Determine whether to continue training\n",
        "      print('Do you want to stop? Enter \\'y\\' to stop, others to continue.')\n",
        "      instruction = input()\n",
        "      if instruction == 'y':\n",
        "        stop = True\n",
        "      else:\n",
        "        stop = False\n",
        "        # Learning rate annealing\n",
        "        learning_rate *= 0.8\n",
        "\n",
        "  return weights_ji, weights_kj"
      ],
      "metadata": {
        "id": "beMalGWXbp6o"
      },
      "execution_count": null,
      "outputs": []
    },
    {
      "cell_type": "markdown",
      "source": [
        "Track the loss on the entire training set every 100 epochs."
      ],
      "metadata": {
        "id": "rz6VSMZIgHLE"
      }
    },
    {
      "cell_type": "code",
      "source": [
        "weights_ji, weights_kj = backpropagation(x1, x2, target, 0.5)"
      ],
      "metadata": {
        "id": "LLBP-wzZgMnv",
        "colab": {
          "base_uri": "https://localhost:8080/"
        },
        "outputId": "7e3c7648-290c-44c8-a7c7-5c30ec5ef846"
      },
      "execution_count": null,
      "outputs": [
        {
          "name": "stdout",
          "output_type": "stream",
          "text": [
            "After 100 epochs, the Mean Square Error is  0.3878239522908495\n",
            "Do you want to stop? Enter 'y' to stop, others to continue.\n",
            "n\n",
            "After 200 epochs, the Mean Square Error is  0.5601221795252772\n",
            "Do you want to stop? Enter 'y' to stop, others to continue.\n",
            "n\n",
            "After 300 epochs, the Mean Square Error is  0.37140853678249786\n",
            "Do you want to stop? Enter 'y' to stop, others to continue.\n",
            "n\n",
            "After 400 epochs, the Mean Square Error is  0.34835700082208754\n",
            "Do you want to stop? Enter 'y' to stop, others to continue.\n",
            "n\n",
            "After 500 epochs, the Mean Square Error is  0.4014251505339464\n",
            "Do you want to stop? Enter 'y' to stop, others to continue.\n",
            "n\n",
            "After 600 epochs, the Mean Square Error is  0.17252560701537548\n",
            "Do you want to stop? Enter 'y' to stop, others to continue.\n",
            "n\n",
            "After 700 epochs, the Mean Square Error is  0.17838842274443376\n",
            "Do you want to stop? Enter 'y' to stop, others to continue.\n",
            "n\n",
            "After 800 epochs, the Mean Square Error is  0.11184428657176454\n",
            "Do you want to stop? Enter 'y' to stop, others to continue.\n",
            "n\n",
            "After 900 epochs, the Mean Square Error is  0.10888064728442011\n",
            "Do you want to stop? Enter 'y' to stop, others to continue.\n",
            "n\n",
            "After 1000 epochs, the Mean Square Error is  0.10651433709415219\n",
            "Do you want to stop? Enter 'y' to stop, others to continue.\n",
            "y\n"
          ]
        }
      ]
    },
    {
      "cell_type": "markdown",
      "source": [
        "Report the classification error on the test set."
      ],
      "metadata": {
        "id": "oFuLQOobkDeL"
      }
    },
    {
      "cell_type": "code",
      "source": [
        "from sklearn.metrics import classification_report\n",
        "\n",
        "# Initialize all bias to random numbers between -0.1 and 0.1 and merge into the input array\n",
        "# Bias from input is denoted as bias_i\n",
        "# Bias from the first layer is denoted as bias_j\n",
        "bias_i = np.ones(npoints)\n",
        "bias_j = np.ones(npoints)\n",
        "all_test_input = np.vstack((bias_i, t1, t2))\n",
        "\n",
        "# Compute values of the first layer\n",
        "test_a_sigmoid = 1\n",
        "y_j_test = sigmoid(np.dot(weights_ji, all_test_input), test_a_sigmoid)\n",
        "# Merge the first layer results with bias\n",
        "y_j_bias_test = np.vstack((bias_j, y_j_test))\n",
        "# Compute actual output\n",
        "y_k_test = sigmoid(np.dot(weights_kj, y_j_bias_test), test_a_sigmoid)\n",
        "# Convert results to 0/1 labels\n",
        "test_predicted_target = np.where(y_k_test > 0.5, 1, 0)\n",
        "\n",
        "# Print the classification report\n",
        "print(classification_report(test_target.reshape(200,), test_predicted_target.reshape(200,)))"
      ],
      "metadata": {
        "id": "sAWBn68VkOeD",
        "colab": {
          "base_uri": "https://localhost:8080/"
        },
        "outputId": "8ad7499a-962b-407c-9a07-cceb3c309dbc"
      },
      "execution_count": null,
      "outputs": [
        {
          "output_type": "stream",
          "name": "stdout",
          "text": [
            "              precision    recall  f1-score   support\n",
            "\n",
            "           0       0.73      0.78      0.76        79\n",
            "           1       0.85      0.81      0.83       121\n",
            "\n",
            "    accuracy                           0.80       200\n",
            "   macro avg       0.79      0.80      0.79       200\n",
            "weighted avg       0.80      0.80      0.80       200\n",
            "\n"
          ]
        }
      ]
    },
    {
      "cell_type": "markdown",
      "source": [
        "Plot the hyperplanes learned in the first layer of network on the training data."
      ],
      "metadata": {
        "id": "cONFqczohb-p"
      }
    },
    {
      "cell_type": "code",
      "source": [
        "from mpl_toolkits.mplot3d import Axes3D\n",
        "\n",
        "x = np.linspace(-5,5,200)\n",
        "y = np.linspace(-5,5,200)\n",
        "z = np.linspace(-5,5,200)\n",
        "\n",
        "X,Y = np.meshgrid(x,y)\n",
        "Z1 = sigmoid(weights_ji[0,0] + weights_ji[0,1] * X + weights_ji[0,2] * Y, 1)\n",
        "Z2 = sigmoid(weights_ji[1,0] + weights_ji[1,1] * X + weights_ji[1,2] * Y, 1)\n",
        "Z3 = sigmoid(weights_ji[2,0] + weights_ji[2,1] * X + weights_ji[2,2] * Y, 1)\n",
        "Z4 = sigmoid(weights_ji[3,0] + weights_ji[3,1] * X + weights_ji[3,2] * Y, 1)\n",
        "Z5 = sigmoid(weights_ji[4,0] + weights_ji[4,1] * X + weights_ji[4,2] * Y, 1)\n",
        "Z6 = sigmoid(weights_ji[5,0] + weights_ji[5,1] * X + weights_ji[5,2] * Y, 1)\n",
        "\n",
        "new_figure = plt.figure()\n",
        "ax = new_figure.add_subplot(111,projection='3d')\n",
        "ax.plot_surface(X, Y, Z1)\n",
        "ax.plot_surface(X, Y, Z2)\n",
        "ax.plot_surface(X, Y, Z3)\n",
        "ax.plot_surface(X, Y, Z4)\n",
        "ax.plot_surface(X, Y, Z5)\n",
        "ax.plot_surface(X, Y, Z6)\n",
        "plt.show()"
      ],
      "metadata": {
        "colab": {
          "base_uri": "https://localhost:8080/",
          "height": 248
        },
        "id": "OLUTsyCCnwcD",
        "outputId": "135cd64f-ab55-4945-e3b4-abe0e55464b5"
      },
      "execution_count": null,
      "outputs": [
        {
          "output_type": "display_data",
          "data": {
            "image/png": "[encoded data removed]",
            "text/plain": [
              "<Figure size 432x288 with 1 Axes>"
            ]
          },
          "metadata": {
            "needs_background": "light"
          }
        }
      ]
    },
    {
      "cell_type": "markdown",
      "source": [
        "Vary the number of hidden units to 4, 8, 12, 20.  Report the effect on test classification error."
      ],
      "metadata": {
        "id": "5IdLc4gCpfxf"
      }
    },
    {
      "cell_type": "markdown",
      "source": [
        "4 hidden units"
      ],
      "metadata": {
        "id": "SQZ0_NiXrOji"
      }
    },
    {
      "cell_type": "code",
      "source": [
        "weights_ji = np.random.uniform(-0.1, 0.1, (4, 3))\n",
        "weights_kj = np.random.uniform(-0.1, 0.1, (1, 5))\n",
        "weights_ji, weights_kj = backpropagation(x1, x2, target, 0.5)\n",
        "# Compute values of the first layer\n",
        "test_a_sigmoid = 1\n",
        "y_j_test = sigmoid(np.dot(weights_ji, all_test_input), test_a_sigmoid)\n",
        "# Merge the first layer results with bias\n",
        "y_j_bias_test = np.vstack((bias_j, y_j_test))\n",
        "# Compute actual output\n",
        "y_k_test = sigmoid(np.dot(weights_kj, y_j_bias_test), test_a_sigmoid)\n",
        "# Convert results to 0/1 labels\n",
        "test_predicted_target = np.where(y_k_test > 0.5, 1, 0)\n",
        "print(classification_report(test_target.reshape(200,), test_predicted_target.reshape(200,)))"
      ],
      "metadata": {
        "colab": {
          "base_uri": "https://localhost:8080/"
        },
        "id": "-gzWY_B_pk5W",
        "outputId": "056df3c9-d3f9-4135-ec2d-11e1a09865f3"
      },
      "execution_count": null,
      "outputs": [
        {
          "output_type": "stream",
          "name": "stdout",
          "text": [
            "After 100 epochs, the Mean Square Error is  0.383130613515769\n",
            "Do you want to stop? Enter 'y' to stop, others to continue.\n",
            "n\n",
            "After 200 epochs, the Mean Square Error is  0.4127174519417683\n",
            "Do you want to stop? Enter 'y' to stop, others to continue.\n",
            "n\n",
            "After 300 epochs, the Mean Square Error is  0.21039963368901277\n",
            "Do you want to stop? Enter 'y' to stop, others to continue.\n",
            "n\n",
            "After 400 epochs, the Mean Square Error is  0.20530867629944224\n",
            "Do you want to stop? Enter 'y' to stop, others to continue.\n",
            "n\n",
            "After 500 epochs, the Mean Square Error is  0.20639243685145778\n",
            "Do you want to stop? Enter 'y' to stop, others to continue.\n",
            "n\n",
            "After 600 epochs, the Mean Square Error is  0.20557268177735666\n",
            "Do you want to stop? Enter 'y' to stop, others to continue.\n",
            "y\n",
            "              precision    recall  f1-score   support\n",
            "\n",
            "           0       0.61      0.85      0.71        79\n",
            "           1       0.87      0.64      0.74       121\n",
            "\n",
            "    accuracy                           0.73       200\n",
            "   macro avg       0.74      0.75      0.72       200\n",
            "weighted avg       0.76      0.72      0.73       200\n",
            "\n"
          ]
        }
      ]
    },
    {
      "cell_type": "markdown",
      "source": [
        "8 hidden units"
      ],
      "metadata": {
        "id": "JgOS_pKkrUX6"
      }
    },
    {
      "cell_type": "code",
      "source": [
        "weights_ji = np.random.uniform(-0.1, 0.1, (8, 3))\n",
        "weights_kj = np.random.uniform(-0.1, 0.1, (1, 9))\n",
        "weights_ji, weights_kj = backpropagation(x1, x2, target, 0.5)\n",
        "# Compute values of the first layer\n",
        "test_a_sigmoid = 1\n",
        "y_j_test = sigmoid(np.dot(weights_ji, all_test_input), test_a_sigmoid)\n",
        "# Merge the first layer results with bias\n",
        "y_j_bias_test = np.vstack((bias_j, y_j_test))\n",
        "# Compute actual output\n",
        "y_k_test = sigmoid(np.dot(weights_kj, y_j_bias_test), test_a_sigmoid)\n",
        "# Convert results to 0/1 labels\n",
        "test_predicted_target = np.where(y_k_test > 0.5, 1, 0)\n",
        "print(classification_report(test_target.reshape(200,), test_predicted_target.reshape(200,)))"
      ],
      "metadata": {
        "colab": {
          "base_uri": "https://localhost:8080/"
        },
        "id": "3VLDfEmqrXr0",
        "outputId": "28a879b1-2259-412c-f173-09d4a0855dbd"
      },
      "execution_count": null,
      "outputs": [
        {
          "output_type": "stream",
          "name": "stdout",
          "text": [
            "After 100 epochs, the Mean Square Error is  0.5700358066276431\n",
            "Do you want to stop? Enter 'y' to stop, others to continue.\n",
            "n\n",
            "After 200 epochs, the Mean Square Error is  0.4661328510139145\n",
            "Do you want to stop? Enter 'y' to stop, others to continue.\n",
            "n\n",
            "After 300 epochs, the Mean Square Error is  0.24963093360291025\n",
            "Do you want to stop? Enter 'y' to stop, others to continue.\n",
            "n\n",
            "After 400 epochs, the Mean Square Error is  0.20728878972990444\n",
            "Do you want to stop? Enter 'y' to stop, others to continue.\n",
            "n\n",
            "After 500 epochs, the Mean Square Error is  0.18137246230405368\n",
            "Do you want to stop? Enter 'y' to stop, others to continue.\n",
            "n\n",
            "After 600 epochs, the Mean Square Error is  0.15989737716922733\n",
            "Do you want to stop? Enter 'y' to stop, others to continue.\n",
            "n\n",
            "After 700 epochs, the Mean Square Error is  0.09287740892134914\n",
            "Do you want to stop? Enter 'y' to stop, others to continue.\n",
            "n\n",
            "After 800 epochs, the Mean Square Error is  0.07362285238731699\n",
            "Do you want to stop? Enter 'y' to stop, others to continue.\n",
            "n\n",
            "After 900 epochs, the Mean Square Error is  0.06318542440822214\n",
            "Do you want to stop? Enter 'y' to stop, others to continue.\n",
            "n\n",
            "After 1000 epochs, the Mean Square Error is  0.05960762352631194\n",
            "Do you want to stop? Enter 'y' to stop, others to continue.\n",
            "n\n",
            "After 1100 epochs, the Mean Square Error is  0.05750106418565596\n",
            "Do you want to stop? Enter 'y' to stop, others to continue.\n",
            "n\n",
            "After 1200 epochs, the Mean Square Error is  0.055906881491787006\n",
            "Do you want to stop? Enter 'y' to stop, others to continue.\n",
            "n\n",
            "After 1300 epochs, the Mean Square Error is  0.054348894747683035\n",
            "Do you want to stop? Enter 'y' to stop, others to continue.\n",
            "n\n",
            "After 1400 epochs, the Mean Square Error is  0.051650217334702125\n",
            "Do you want to stop? Enter 'y' to stop, others to continue.\n",
            "n\n",
            "After 1500 epochs, the Mean Square Error is  0.05005915557940966\n",
            "Do you want to stop? Enter 'y' to stop, others to continue.\n",
            "n\n",
            "After 1600 epochs, the Mean Square Error is  0.04933197377148829\n",
            "Do you want to stop? Enter 'y' to stop, others to continue.\n",
            "n\n",
            "After 1700 epochs, the Mean Square Error is  0.048805149860355605\n",
            "Do you want to stop? Enter 'y' to stop, others to continue.\n",
            "n\n",
            "After 1800 epochs, the Mean Square Error is  0.048400852392649046\n",
            "Do you want to stop? Enter 'y' to stop, others to continue.\n",
            "n\n",
            "After 1900 epochs, the Mean Square Error is  0.04808659386043896\n",
            "Do you want to stop? Enter 'y' to stop, others to continue.\n",
            "n\n",
            "After 2000 epochs, the Mean Square Error is  0.0478406919089047\n",
            "Do you want to stop? Enter 'y' to stop, others to continue.\n",
            "y\n",
            "              precision    recall  f1-score   support\n",
            "\n",
            "           0       0.85      0.92      0.88        79\n",
            "           1       0.95      0.89      0.92       121\n",
            "\n",
            "    accuracy                           0.91       200\n",
            "   macro avg       0.90      0.91      0.90       200\n",
            "weighted avg       0.91      0.91      0.91       200\n",
            "\n"
          ]
        }
      ]
    },
    {
      "cell_type": "markdown",
      "source": [
        "12 hidden units"
      ],
      "metadata": {
        "id": "oF3zd61Msghl"
      }
    },
    {
      "cell_type": "code",
      "source": [
        "weights_ji = np.random.uniform(-0.1, 0.1, (12, 3))\n",
        "weights_kj = np.random.uniform(-0.1, 0.1, (1, 13))\n",
        "weights_ji, weights_kj = backpropagation(x1, x2, target, 0.5)\n",
        "# Compute values of the first layer\n",
        "test_a_sigmoid = 1\n",
        "y_j_test = sigmoid(np.dot(weights_ji, all_test_input), test_a_sigmoid)\n",
        "# Merge the first layer results with bias\n",
        "y_j_bias_test = np.vstack((bias_j, y_j_test))\n",
        "# Compute actual output\n",
        "y_k_test = sigmoid(np.dot(weights_kj, y_j_bias_test), test_a_sigmoid)\n",
        "# Convert results to 0/1 labels\n",
        "test_predicted_target = np.where(y_k_test > 0.5, 1, 0)\n",
        "print(classification_report(test_target.reshape(200,), test_predicted_target.reshape(200,)))"
      ],
      "metadata": {
        "colab": {
          "base_uri": "https://localhost:8080/"
        },
        "id": "HpxCC49jsh5l",
        "outputId": "a87780f5-ec45-49b4-affe-c604a113d063"
      },
      "execution_count": null,
      "outputs": [
        {
          "output_type": "stream",
          "name": "stdout",
          "text": [
            "After 100 epochs, the Mean Square Error is  0.38876275104280805\n",
            "Do you want to stop? Enter 'y' to stop, others to continue.\n",
            "n\n",
            "After 200 epochs, the Mean Square Error is  0.37334587079880066\n",
            "Do you want to stop? Enter 'y' to stop, others to continue.\n",
            "n\n",
            "After 300 epochs, the Mean Square Error is  0.48598446971472137\n",
            "Do you want to stop? Enter 'y' to stop, others to continue.\n",
            "n\n",
            "After 400 epochs, the Mean Square Error is  0.27063662420578294\n",
            "Do you want to stop? Enter 'y' to stop, others to continue.\n",
            "n\n",
            "After 500 epochs, the Mean Square Error is  0.23377448333653156\n",
            "Do you want to stop? Enter 'y' to stop, others to continue.\n",
            "n\n",
            "After 600 epochs, the Mean Square Error is  0.2745766699429568\n",
            "Do you want to stop? Enter 'y' to stop, others to continue.\n",
            "n\n",
            "After 700 epochs, the Mean Square Error is  0.20456979706790196\n",
            "Do you want to stop? Enter 'y' to stop, others to continue.\n",
            "n\n",
            "After 800 epochs, the Mean Square Error is  0.15919498886072553\n",
            "Do you want to stop? Enter 'y' to stop, others to continue.\n",
            "n\n",
            "After 900 epochs, the Mean Square Error is  0.11094603210982189\n",
            "Do you want to stop? Enter 'y' to stop, others to continue.\n",
            "n\n",
            "After 1000 epochs, the Mean Square Error is  0.0888629340290665\n",
            "Do you want to stop? Enter 'y' to stop, others to continue.\n",
            "n\n",
            "After 1100 epochs, the Mean Square Error is  0.08697683543184592\n",
            "Do you want to stop? Enter 'y' to stop, others to continue.\n",
            "n\n",
            "After 1200 epochs, the Mean Square Error is  0.08531428188582132\n",
            "Do you want to stop? Enter 'y' to stop, others to continue.\n",
            "n\n",
            "After 1300 epochs, the Mean Square Error is  0.08419631448500194\n",
            "Do you want to stop? Enter 'y' to stop, others to continue.\n",
            "y\n",
            "              precision    recall  f1-score   support\n",
            "\n",
            "           0       0.85      0.87      0.86        79\n",
            "           1       0.92      0.90      0.91       121\n",
            "\n",
            "    accuracy                           0.89       200\n",
            "   macro avg       0.88      0.89      0.89       200\n",
            "weighted avg       0.89      0.89      0.89       200\n",
            "\n"
          ]
        }
      ]
    },
    {
      "cell_type": "markdown",
      "source": [
        "20 hidden units"
      ],
      "metadata": {
        "id": "NSTs-K7atcv-"
      }
    },
    {
      "cell_type": "code",
      "source": [
        "weights_ji = np.random.uniform(-0.1, 0.1, (20, 3))\n",
        "weights_kj = np.random.uniform(-0.1, 0.1, (1, 21))\n",
        "weights_ji, weights_kj = backpropagation(x1, x2, target, 0.5)\n",
        "# Compute values of the first layer\n",
        "test_a_sigmoid = 1\n",
        "y_j_test = sigmoid(np.dot(weights_ji, all_test_input), test_a_sigmoid)\n",
        "# Merge the first layer results with bias\n",
        "y_j_bias_test = np.vstack((bias_j, y_j_test))\n",
        "# Compute actual output\n",
        "y_k_test = sigmoid(np.dot(weights_kj, y_j_bias_test), test_a_sigmoid)\n",
        "# Convert results to 0/1 labels\n",
        "test_predicted_target = np.where(y_k_test > 0.5, 1, 0)\n",
        "print(classification_report(test_target.reshape(200,), test_predicted_target.reshape(200,)))"
      ],
      "metadata": {
        "colab": {
          "base_uri": "https://localhost:8080/"
        },
        "id": "UVQV7rM2tfLr",
        "outputId": "e75e5a08-c152-4cd7-d186-a2b20f46fa8b"
      },
      "execution_count": null,
      "outputs": [
        {
          "output_type": "stream",
          "name": "stdout",
          "text": [
            "After 100 epochs, the Mean Square Error is  0.59595165976905\n",
            "Do you want to stop? Enter 'y' to stop, others to continue.\n",
            "n\n",
            "After 200 epochs, the Mean Square Error is  0.42623939390354165\n",
            "Do you want to stop? Enter 'y' to stop, others to continue.\n",
            "n\n",
            "After 300 epochs, the Mean Square Error is  0.3888141773651638\n",
            "Do you want to stop? Enter 'y' to stop, others to continue.\n",
            "n\n",
            "After 400 epochs, the Mean Square Error is  0.4089641562075778\n",
            "Do you want to stop? Enter 'y' to stop, others to continue.\n",
            "n\n",
            "After 500 epochs, the Mean Square Error is  0.37155434766605433\n",
            "Do you want to stop? Enter 'y' to stop, others to continue.\n",
            "n\n",
            "After 600 epochs, the Mean Square Error is  0.377661241118399\n",
            "Do you want to stop? Enter 'y' to stop, others to continue.\n",
            "n\n",
            "After 700 epochs, the Mean Square Error is  0.34699476995236495\n",
            "Do you want to stop? Enter 'y' to stop, others to continue.\n",
            "n\n",
            "After 800 epochs, the Mean Square Error is  0.33425038110947597\n",
            "Do you want to stop? Enter 'y' to stop, others to continue.\n",
            "n\n",
            "After 900 epochs, the Mean Square Error is  0.33199538009046914\n",
            "Do you want to stop? Enter 'y' to stop, others to continue.\n",
            "n\n",
            "After 1000 epochs, the Mean Square Error is  0.32997797444532523\n",
            "Do you want to stop? Enter 'y' to stop, others to continue.\n",
            "y\n",
            "              precision    recall  f1-score   support\n",
            "\n",
            "           0       1.00      0.19      0.32        79\n",
            "           1       0.65      1.00      0.79       121\n",
            "\n",
            "    accuracy                           0.68       200\n",
            "   macro avg       0.83      0.59      0.55       200\n",
            "weighted avg       0.79      0.68      0.60       200\n",
            "\n"
          ]
        }
      ]
    },
    {
      "cell_type": "markdown",
      "source": [
        "Include a momentum term in the weight update with alpha = 0.8, 0.9 and report its effect on the speed of training over no momentum."
      ],
      "metadata": {
        "id": "s_QWKxFnuqjl"
      }
    },
    {
      "cell_type": "code",
      "source": [
        "# Initialize all weights to random numbers between -0.1 and 0.1, including bias weights\n",
        "# Weights between input and the first layer is denoted as weights_ji\n",
        "# Weights between the first layer and the second layer is denoted as weights_kj\n",
        "weights_ji = np.random.uniform(-0.1, 0.1, (6, 3))\n",
        "weights_kj = np.random.uniform(-0.1, 0.1, (1, 7))\n",
        "def backpropagation_momentum(input1, input2, desired_output, learning_rate, momentum):\n",
        "  # Initialize the status value, and the epoch counter\n",
        "  stop = False\n",
        "  epoch = 0\n",
        "\n",
        "  # Initialize all bias to random numbers between -0.1 and 0.1 and merge into the input array\n",
        "  # Bias from input is denoted as bias_i\n",
        "  # Bias from the first layer is denoted as bias_j\n",
        "  bias_i = np.ones(npoints)\n",
        "  bias_j = np.ones(npoints)\n",
        "  all_input = np.vstack((bias_i, input1, input2))\n",
        "\n",
        "  # Training process\n",
        "  while not stop:\n",
        "    a_sigmoid = 1\n",
        "    # Compute values of the first layer\n",
        "    y_j = sigmoid(np.dot(weights_ji, all_input), a_sigmoid)\n",
        "    # Merge the first layer results with bias\n",
        "    y_j_bias = np.vstack((bias_j, y_j))\n",
        "    # Compute actual output\n",
        "    y_k = sigmoid(np.dot(weights_kj, y_j_bias), a_sigmoid)\n",
        "    # Count epoch\n",
        "    epoch += 1\n",
        "\n",
        "    if epoch % 100 != 0:\n",
        "      # Update weights\n",
        "      for index in range(npoints):\n",
        "        # Compute value of \n",
        "        phi_derivative_k = sigmoid_derivative(np.dot(weights_kj, y_j_bias[:,index]), a_sigmoid)\n",
        "        error = desired_output[index] - y_k[:,index]\n",
        "        # Update weights for the second layer\n",
        "        for j in range(weights_kj.size):\n",
        "          weights_kj[0,j] = weights_kj[0,j] + (learning_rate / (1 - momentum)) * phi_derivative_k * error * y_j_bias[j,index]\n",
        "        # Update weights for the first layer\n",
        "        for j in range(weights_ji.shape[0]):\n",
        "          for i in range(weights_ji.shape[1]):\n",
        "            phi_derivative_j = sigmoid_derivative(np.dot(weights_ji[j,:], all_input[:,index]), a_sigmoid)\n",
        "            weights_ji[j,i] = weights_ji[j,i] + (learning_rate / (1 - momentum)) * phi_derivative_j * np.inner(weights_kj[0,j], phi_derivative_k * error) * all_input[i,index]\n",
        "    else:\n",
        "      # Compute the Mean Square Error after each 100 epochs\n",
        "      mean_sqaure_loss = np.sum((desired_output - y_k) ** 2) / npoints\n",
        "      print('After', epoch, 'epochs, the Mean Square Error is ', mean_sqaure_loss)\n",
        "      # Determine whether to continue training\n",
        "      print('Do you want to stop? Enter \\'y\\' to stop, others to continue.')\n",
        "      instruction = input()\n",
        "      if instruction == 'y':\n",
        "        stop = True\n",
        "      else:\n",
        "        stop = False\n",
        "        # Learning rate annealing\n",
        "        learning_rate *= 0.8\n",
        "\n",
        "  return weights_ji, weights_kj"
      ],
      "metadata": {
        "id": "BKCsMYw5vPff"
      },
      "execution_count": null,
      "outputs": []
    },
    {
      "cell_type": "code",
      "source": [
        "weights_ji, weights_kj = backpropagation_momentum(x1, x2, target, 0.5, 0.8)"
      ],
      "metadata": {
        "colab": {
          "base_uri": "https://localhost:8080/"
        },
        "id": "3NvjkGBEwPQS",
        "outputId": "407d160d-c8ce-4739-ab95-e05e119eec4c"
      },
      "execution_count": null,
      "outputs": [
        {
          "name": "stdout",
          "output_type": "stream",
          "text": [
            "After 100 epochs, the Mean Square Error is  0.6049682868658439\n",
            "Do you want to stop? Enter 'y' to stop, others to continue.\n",
            "n\n",
            "After 200 epochs, the Mean Square Error is  0.6049828833564631\n",
            "Do you want to stop? Enter 'y' to stop, others to continue.\n",
            "y\n"
          ]
        }
      ]
    },
    {
      "cell_type": "code",
      "source": [
        "weights_ji, weights_kj = backpropagation_momentum(x1, x2, target, 0.5, 0.9)"
      ],
      "metadata": {
        "colab": {
          "base_uri": "https://localhost:8080/"
        },
        "id": "xUffU5ydw28n",
        "outputId": "3bc6ca0d-fea1-4383-8c35-fd11ec981739"
      },
      "execution_count": null,
      "outputs": [
        {
          "name": "stdout",
          "output_type": "stream",
          "text": [
            "After 100 epochs, the Mean Square Error is  0.6049803327774391\n",
            "Do you want to stop? Enter 'y' to stop, others to continue.\n",
            "n\n",
            "After 200 epochs, the Mean Square Error is  0.6046328845788921\n",
            "Do you want to stop? Enter 'y' to stop, others to continue.\n",
            "n\n",
            "After 300 epochs, the Mean Square Error is  0.6049926428144008\n",
            "Do you want to stop? Enter 'y' to stop, others to continue.\n",
            "n\n",
            "After 400 epochs, the Mean Square Error is  0.39378247015894885\n",
            "Do you want to stop? Enter 'y' to stop, others to continue.\n",
            "y\n"
          ]
        }
      ]
    }
  ]
}